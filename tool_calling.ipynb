{
  "nbformat": 4,
  "nbformat_minor": 0,
  "metadata": {
    "colab": {
      "provenance": [],
      "authorship_tag": "ABX9TyOFZAtrKJHOTsz+z5KVboMB",
      "include_colab_link": true
    },
    "kernelspec": {
      "name": "python3",
      "display_name": "Python 3"
    },
    "language_info": {
      "name": "python"
    }
  },
  "cells": [
    {
      "cell_type": "markdown",
      "metadata": {
        "id": "view-in-github",
        "colab_type": "text"
      },
      "source": [
        "<a href=\"https://colab.research.google.com/github/wajidminhas/AI-Agents/blob/main/tool_calling.ipynb\" target=\"_parent\"><img src=\"https://colab.research.google.com/assets/colab-badge.svg\" alt=\"Open In Colab\"/></a>"
      ]
    },
    {
      "cell_type": "code",
      "source": [
        "%pip install -q -U langchain-google-genai langchain_core langgraph"
      ],
      "metadata": {
        "colab": {
          "base_uri": "https://localhost:8080/"
        },
        "id": "y9fjnx7z1YnM",
        "outputId": "366fc94c-506a-404f-ffe8-33ef070d9e08"
      },
      "execution_count": 1,
      "outputs": [
        {
          "output_type": "stream",
          "name": "stdout",
          "text": [
            "\u001b[?25l   \u001b[90m━━━━━━━━━━━━━━━━━━━━━━━━━━━━━━━━━━━━━━━━\u001b[0m \u001b[32m0.0/41.3 kB\u001b[0m \u001b[31m?\u001b[0m eta \u001b[36m-:--:--\u001b[0m\r\u001b[2K   \u001b[90m━━━━━━━━━━━━━━━━━━━━━━━━━━━━━━━━━━━━━━━━\u001b[0m \u001b[32m41.3/41.3 kB\u001b[0m \u001b[31m2.5 MB/s\u001b[0m eta \u001b[36m0:00:00\u001b[0m\n",
            "\u001b[?25h\u001b[?25l   \u001b[90m━━━━━━━━━━━━━━━━━━━━━━━━━━━━━━━━━━━━━━━━\u001b[0m \u001b[32m0.0/411.6 kB\u001b[0m \u001b[31m?\u001b[0m eta \u001b[36m-:--:--\u001b[0m\r\u001b[2K   \u001b[91m━━━━━━━━━━━━━━━━━━━━━━━━━━━━━━━━━━━━━━━\u001b[0m\u001b[91m╸\u001b[0m \u001b[32m409.6/411.6 kB\u001b[0m \u001b[31m16.4 MB/s\u001b[0m eta \u001b[36m0:00:01\u001b[0m\r\u001b[2K   \u001b[90m━━━━━━━━━━━━━━━━━━━━━━━━━━━━━━━━━━━━━━━━\u001b[0m \u001b[32m411.6/411.6 kB\u001b[0m \u001b[31m10.7 MB/s\u001b[0m eta \u001b[36m0:00:00\u001b[0m\n",
            "\u001b[2K   \u001b[90m━━━━━━━━━━━━━━━━━━━━━━━━━━━━━━━━━━━━━━━━\u001b[0m \u001b[32m135.7/135.7 kB\u001b[0m \u001b[31m11.0 MB/s\u001b[0m eta \u001b[36m0:00:00\u001b[0m\n",
            "\u001b[2K   \u001b[90m━━━━━━━━━━━━━━━━━━━━━━━━━━━━━━━━━━━━━━━━\u001b[0m \u001b[32m43.7/43.7 kB\u001b[0m \u001b[31m3.2 MB/s\u001b[0m eta \u001b[36m0:00:00\u001b[0m\n",
            "\u001b[?25h"
          ]
        }
      ]
    },
    {
      "cell_type": "code",
      "execution_count": 2,
      "metadata": {
        "id": "pg-UrxG70P7Y"
      },
      "outputs": [],
      "source": [
        "from google.colab import userdata\n",
        "gemini_api_key = userdata.get(\"GEMINI_API_KEY\")"
      ]
    },
    {
      "cell_type": "code",
      "source": [
        "from langchain_google_genai import ChatGoogleGenerativeAI\n",
        "\n",
        "resnponse : ChatGoogleGenerativeAI = ChatGoogleGenerativeAI(model=\"gemini-1.5-flash\", api_key=gemini_api_key)"
      ],
      "metadata": {
        "id": "tS-XLgFd1_la"
      },
      "execution_count": 3,
      "outputs": []
    },
    {
      "cell_type": "markdown",
      "source": [
        "**Function/Tool Calling**"
      ],
      "metadata": {
        "id": "wDvk2QGM5Q1t"
      }
    },
    {
      "cell_type": "code",
      "source": [
        "print(resnponse)\n"
      ],
      "metadata": {
        "colab": {
          "base_uri": "https://localhost:8080/"
        },
        "id": "aq6_yxqd1ILN",
        "outputId": "f56c4133-9ecc-4819-9604-c25c5d73ccb5"
      },
      "execution_count": 4,
      "outputs": [
        {
          "output_type": "stream",
          "name": "stdout",
          "text": [
            "model='models/gemini-1.5-flash' google_api_key=SecretStr('**********') client=<google.ai.generativelanguage_v1beta.services.generative_service.client.GenerativeServiceClient object at 0x7d1d91e22e60> default_metadata=()\n"
          ]
        }
      ]
    },
    {
      "cell_type": "code",
      "source": [
        "# here creating a function\n",
        "\n",
        "def bank_depost(name : str, amount: int, account_id: int):\n",
        "  \"\"\"Desposit amount into bank account\n",
        "\n",
        "  argument\n",
        "  name : str\n",
        "  amount : int\n",
        "  account_id : int\n",
        "\n",
        "  return\n",
        "  str\n",
        "  \"\"\"\n",
        "  return f\"successfully deposited {amount} into account {name} {account_id}\""
      ],
      "metadata": {
        "id": "WubjJYVH5Y9P"
      },
      "execution_count": 5,
      "outputs": []
    },
    {
      "cell_type": "code",
      "source": [
        "tool_calling = resnponse.bind_tools([bank_depost])"
      ],
      "metadata": {
        "id": "c98BKbuw7abn"
      },
      "execution_count": 6,
      "outputs": []
    },
    {
      "cell_type": "code",
      "source": [
        "tool_calling"
      ],
      "metadata": {
        "colab": {
          "base_uri": "https://localhost:8080/"
        },
        "id": "J9XCouqT75-e",
        "outputId": "0a2f2f44-61a7-4c12-b565-529c300bb4ea"
      },
      "execution_count": 7,
      "outputs": [
        {
          "output_type": "execute_result",
          "data": {
            "text/plain": [
              "RunnableBinding(bound=ChatGoogleGenerativeAI(model='models/gemini-1.5-flash', google_api_key=SecretStr('**********'), client=<google.ai.generativelanguage_v1beta.services.generative_service.client.GenerativeServiceClient object at 0x7d1d91e22e60>, default_metadata=()), kwargs={'tools': [{'type': 'function', 'function': {'name': 'bank_depost', 'description': 'Desposit amount into bank account argument\\nname : str\\namount : int\\naccount_id : int return\\nstr', 'parameters': {'properties': {'name': {'type': 'string'}, 'amount': {'type': 'integer'}, 'account_id': {'type': 'integer'}}, 'required': ['name', 'amount', 'account_id'], 'type': 'object'}}}]}, config={}, config_factories=[])"
            ]
          },
          "metadata": {},
          "execution_count": 7
        }
      ]
    },
    {
      "cell_type": "code",
      "source": [
        "from langchain_core.messages import HumanMessage, AIMessage, SystemMessage"
      ],
      "metadata": {
        "id": "DsWOU-AS8hqK"
      },
      "execution_count": 8,
      "outputs": []
    },
    {
      "cell_type": "code",
      "source": [
        "call = resnponse.invoke([HumanMessage(content=\"depost 10000 amount in wajid account and account id is 45729438752\")])"
      ],
      "metadata": {
        "id": "49hk0F7k8sxA"
      },
      "execution_count": 9,
      "outputs": []
    },
    {
      "cell_type": "code",
      "source": [
        "call"
      ],
      "metadata": {
        "colab": {
          "base_uri": "https://localhost:8080/"
        },
        "id": "H8vziD1b9B28",
        "outputId": "53c8adea-2668-4751-b557-24c3a9a9702f"
      },
      "execution_count": 10,
      "outputs": [
        {
          "output_type": "execute_result",
          "data": {
            "text/plain": [
              "AIMessage(content=\"I cannot directly deposit money into bank accounts. I am a large language model, an AI.  I do not have access to financial systems or the ability to process transactions.  To deposit money into Wajid's account, you will need to use a method provided by your bank or financial institution, such as online banking, a mobile app, or a physical deposit.  You will need Wajid's full account details (including the bank name) to complete the transaction.\\n\", additional_kwargs={}, response_metadata={'prompt_feedback': {'block_reason': 0, 'safety_ratings': []}, 'finish_reason': 'STOP', 'safety_ratings': []}, id='run-1bc21820-8416-49d9-8e5f-7b1803a6627d-0', usage_metadata={'input_tokens': 31, 'output_tokens': 100, 'total_tokens': 131, 'input_token_details': {'cache_read': 0}})"
            ]
          },
          "metadata": {},
          "execution_count": 10
        }
      ]
    },
    {
      "cell_type": "code",
      "source": [
        "\n",
        "from typing_extensions import TypedDict\n",
        "\n",
        "class BankDeposit(TypedDict):\n",
        "  message : list[str]\n",
        "\n",
        "\n",
        "def call_bank_deposit(state : BankDeposit):\n",
        "  message = state[\"message\"]\n",
        "  tool_response = tool_calling.invoke(message)\n",
        "  return {\"message\" : [tool_response]}\n",
        "\n",
        "  # HERE GRAPH IS GOING TO BUILD/STATE\n",
        "\n",
        "from langgraph.graph import StateGraph, START, END\n",
        "\n",
        "builder : StateGraph = StateGraph(BankDeposit)\n",
        "\n",
        "  #NODE\n",
        "\n",
        "builder.add_node(\"calling bank desposit response\", call_bank_deposit)\n",
        "\n",
        "  #EDGES\n",
        "\n",
        "builder.add_edge(START, \"calling bank desposit response\")\n",
        "builder.add_edge(\"calling bank desposit response\", END)\n",
        "\n",
        "  # BUILD GRAPH\n",
        "\n",
        "graph = builder.compile()\n"
      ],
      "metadata": {
        "id": "DeWwgbFGfUOd"
      },
      "execution_count": 11,
      "outputs": []
    },
    {
      "cell_type": "code",
      "source": [
        "from IPython.display import display, Image\n",
        "\n",
        "display(Image(graph.get_graph().draw_mermaid_png()))"
      ],
      "metadata": {
        "colab": {
          "base_uri": "https://localhost:8080/",
          "height": 270
        },
        "id": "VT7tTPKPjoG1",
        "outputId": "71af1f8b-e183-4a4b-d42e-688a7f8af731"
      },
      "execution_count": 12,
      "outputs": [
        {
          "output_type": "display_data",
          "data": {
            "image/png": "[encoded data removed]",
            "text/plain": [
              "<IPython.core.display.Image object>"
            ]
          },
          "metadata": {}
        }
      ]
    },
    {
      "cell_type": "code",
      "source": [
        "graph"
      ],
      "metadata": {
        "colab": {
          "base_uri": "https://localhost:8080/",
          "height": 270
        },
        "id": "HLVxJcAtkEhM",
        "outputId": "32b4f6c4-86fd-4ddc-a528-216569ba9fb6"
      },
      "execution_count": 13,
      "outputs": [
        {
          "output_type": "execute_result",
          "data": {
            "text/plain": [
              "<langgraph.graph.state.CompiledStateGraph object at 0x7d1d90d0bb50>"
            ],
            "image/png": "[encoded data removed]"
          },
          "metadata": {},
          "execution_count": 13
        }
      ]
    },
    {
      "cell_type": "code",
      "source": [
        "graph.invoke({\"message\" : [\"depost 10000 amount in wajid account and account id is 45729438752\"]})"
      ],
      "metadata": {
        "colab": {
          "base_uri": "https://localhost:8080/"
        },
        "id": "HszuOAwQGEqx",
        "outputId": "e4bc8234-f563-4a03-bf40-2659c60fdea9"
      },
      "execution_count": 14,
      "outputs": [
        {
          "output_type": "execute_result",
          "data": {
            "text/plain": [
              "{'message': [AIMessage(content='', additional_kwargs={'function_call': {'name': 'bank_depost', 'arguments': '{\"account_id\": 45729438752.0, \"amount\": 10000.0, \"name\": \"wajid\"}'}}, response_metadata={'prompt_feedback': {'block_reason': 0, 'safety_ratings': []}, 'finish_reason': 'STOP', 'safety_ratings': []}, id='run-9f69afcb-23e2-4209-9ca9-585582013c3d-0', tool_calls=[{'name': 'bank_depost', 'args': {'account_id': 45729438752.0, 'amount': 10000.0, 'name': 'wajid'}, 'id': '04b72a94-164a-4215-a5f7-73036d908731', 'type': 'tool_call'}], usage_metadata={'input_tokens': 114, 'output_tokens': 11, 'total_tokens': 125, 'input_token_details': {'cache_read': 0}})]}"
            ]
          },
          "metadata": {},
          "execution_count": 14
        }
      ]
    },
    {
      "cell_type": "code",
      "source": [
        "graph.invoke({\"message\" : [\"hi\"]})"
      ],
      "metadata": {
        "colab": {
          "base_uri": "https://localhost:8080/"
        },
        "id": "IGyArehqHEWR",
        "outputId": "bb3dbf30-8b36-46b3-b282-7cba04f096cf"
      },
      "execution_count": 15,
      "outputs": [
        {
          "output_type": "execute_result",
          "data": {
            "text/plain": [
              "{'message': [AIMessage(content='Hello! How can I help you today?\\n', additional_kwargs={}, response_metadata={'prompt_feedback': {'block_reason': 0, 'safety_ratings': []}, 'finish_reason': 'STOP', 'safety_ratings': []}, id='run-e9379e9c-1943-40ed-b5c1-11b05fdaaa5d-0', usage_metadata={'input_tokens': 85, 'output_tokens': 10, 'total_tokens': 95, 'input_token_details': {'cache_read': 0}})]}"
            ]
          },
          "metadata": {},
          "execution_count": 15
        }
      ]
    }
  ]
}