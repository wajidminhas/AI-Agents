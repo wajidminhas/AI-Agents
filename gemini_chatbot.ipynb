{
  "nbformat": 4,
  "nbformat_minor": 0,
  "metadata": {
    "colab": {
      "provenance": [],
      "authorship_tag": "ABX9TyO0jO2jF4RuhULDZPMcRjkR",
      "include_colab_link": true
    },
    "kernelspec": {
      "name": "python3",
      "display_name": "Python 3"
    },
    "language_info": {
      "name": "python"
    }
  },
  "cells": [
    {
      "cell_type": "markdown",
      "metadata": {
        "id": "view-in-github",
        "colab_type": "text"
      },
      "source": [
        "<a href=\"https://colab.research.google.com/github/wajidminhas/AI-Agents/blob/main/gemini_chatbot.ipynb\" target=\"_parent\"><img src=\"https://colab.research.google.com/assets/colab-badge.svg\" alt=\"Open In Colab\"/></a>"
      ]
    },
    {
      "cell_type": "code",
      "execution_count": 1,
      "metadata": {
        "id": "GGJVQBbrEViy"
      },
      "outputs": [],
      "source": [
        "%%capture --no-stderr\n",
        "%pip install  -q langchain-community langchain-core langchain_google_genai tavily-python"
      ]
    },
    {
      "cell_type": "code",
      "source": [
        "from langchain_google_genai import ChatGoogleGenerativeAI\n",
        "from google.colab import userdata\n",
        "\n",
        "GEMINI_API_KEY = userdata.get('GEMINI_API_KEY')\n",
        "\n",
        "llm = ChatGoogleGenerativeAI(\n",
        "    model=\"gemini-1.5-flash\",\n",
        "    api_key=GEMINI_API_KEY,\n",
        "    temperature=0\n",
        ")"
      ],
      "metadata": {
        "id": "ezFnbqV-82ic"
      },
      "execution_count": 2,
      "outputs": []
    },
    {
      "cell_type": "code",
      "source": [
        "result = llm.invoke(\"what is the capital of france\")\n",
        "result\n"
      ],
      "metadata": {
        "colab": {
          "base_uri": "https://localhost:8080/"
        },
        "id": "p-SxIUfL_V2T",
        "outputId": "c494c1d7-03a0-432d-9458-e557655f4fd4"
      },
      "execution_count": 3,
      "outputs": [
        {
          "output_type": "execute_result",
          "data": {
            "text/plain": [
              "AIMessage(content='The capital of France is **Paris**.\\n', additional_kwargs={}, response_metadata={'prompt_feedback': {'block_reason': 0, 'safety_ratings': []}, 'finish_reason': 'STOP', 'safety_ratings': []}, id='run-da390413-bfe7-4b43-a417-647f6a4efbd7-0', usage_metadata={'input_tokens': 7, 'output_tokens': 9, 'total_tokens': 16, 'input_token_details': {'cache_read': 0}})"
            ]
          },
          "metadata": {},
          "execution_count": 3
        }
      ]
    },
    {
      "cell_type": "code",
      "source": [
        "from langchain_core.messages import AIMessage, HumanMessage\n",
        "\n",
        "# msg = HumanMessage(content=\"what is the capital of france\")\n",
        "\n",
        "message = [HumanMessage(content=\"what is the capital of france\", name = \"History Student\"),\n",
        "           AIMessage(content='The capital of France is **Paris**.\\n', name= \"AI Assistent\"),\n",
        "           HumanMessage(content=\"Where is paris situated?\", name= \"History Student\"),\n",
        "           AIMessage(content=\"Paris is situated in **northern France**, on the **Seine River**.\\n\", name = \"AI Assistent\"),\n",
        "           HumanMessage(content=\"So where is France?\", name = \"History Student\"),\n",
        "           HumanMessage(content=\"what is current situation of Syria\", name=\"History Student\")]\n",
        "\n",
        "\n",
        "result = llm.invoke(message)\n",
        "result.content"
      ],
      "metadata": {
        "colab": {
          "base_uri": "https://localhost:8080/",
          "height": 140
        },
        "id": "K7hjmQxmB1R6",
        "outputId": "2e7f07d9-e36e-4f48-8361-4caabb4d1a99"
      },
      "execution_count": 4,
      "outputs": [
        {
          "output_type": "execute_result",
          "data": {
            "text/plain": [
              "\"The current situation in Syria is incredibly complex and dire, characterized by ongoing conflict, humanitarian crisis, and political instability.  There's no single, simple answer, but here are some key aspects:\\n\\n* **Ongoing Civil War:**  The Syrian Civil War, which began in 2011, continues, though large-scale battles are less frequent than in previous years.  However, sporadic fighting and clashes persist in various regions.  Different factions, including the Syrian government, various rebel groups, Kurdish forces (SDF), and extremist groups (though significantly weakened), remain active.\\n\\n* **Humanitarian Catastrophe:** Millions of Syrians have been displaced, both internally and externally, creating a massive refugee crisis.  Many are living in precarious conditions with limited access to food, water, shelter, and medical care.  The ongoing conflict and economic collapse have exacerbated poverty and hunger.\\n\\n* **Political Landscape:** The Assad regime, backed by Russia and Iran, remains in power, but its control is far from absolute.  Large parts of the country are still contested, and the future political structure of Syria remains uncertain.  International efforts to find a political solution have largely stalled.\\n\\n* **Economic Collapse:**  Years of war have devastated Syria's economy.  Inflation is rampant, essential services are lacking, and the country faces significant economic hardship.  Sanctions imposed by some countries further complicate the situation.\\n\\n* **ISIS Remnants:** While ISIS has lost most of its territorial control, sleeper cells and remnants of the group still pose a security threat.\\n\\n* **International Involvement:**  Several countries, including Russia, Iran, Turkey, and the United States, are involved in the Syrian conflict, either directly or indirectly, often supporting opposing sides, further complicating the situation.\\n\\n\\nIn short, Syria remains deeply fractured and unstable.  The humanitarian situation is critical, and the long-term prospects for peace and reconstruction remain uncertain.  To get the most up-to-date information, it's best to consult reputable news sources and organizations that specialize in monitoring the Syrian conflict.\\n\""
            ],
            "application/vnd.google.colaboratory.intrinsic+json": {
              "type": "string"
            }
          },
          "metadata": {},
          "execution_count": 4
        }
      ]
    },
    {
      "cell_type": "code",
      "source": [
        "import os\n",
        "from langchain_community.tools.tavily_search import TavilySearchResults\n",
        "\n",
        "from google.colab import userdata\n",
        "TAVILY_API_KEY = userdata.get('TAVILY_API_KEY')\n",
        "os.environ[\"TAVILY_API_KEY\"] = userdata.get(\"TAVILY_API_KEY\")\n",
        "\n",
        "\n",
        "tavily_search = TavilySearchResults(max_results=4)\n",
        "\n",
        "search_result = tavily_search.invoke(\"what is the latest situation in Syria\")\n",
        "\n",
        "\n"
      ],
      "metadata": {
        "id": "dHGt1UxTOBgM"
      },
      "execution_count": 5,
      "outputs": []
    },
    {
      "cell_type": "code",
      "source": [
        "search_result"
      ],
      "metadata": {
        "colab": {
          "base_uri": "https://localhost:8080/"
        },
        "id": "aa1I8NgEZxEO",
        "outputId": "5e026069-652f-4ecd-8dd7-312a9463e84a"
      },
      "execution_count": 7,
      "outputs": [
        {
          "output_type": "execute_result",
          "data": {
            "text/plain": [
              "[{'url': 'https://abcnews.go.com/International/live-updates/middle-east-live-updates-us-embassy-situation-volatile-urges/?id=116818410',\n",
              "  'content': 'Syria live updates: US embassy says situation \\'volatile,\\' urges citizens to leave - ABC News The U.S. Embassy in Damascus -- which suspended operations in 2012 -- said in a Monday post to X that the \"security situation in Syria continues to be volatile and unpredictable with armed conflict and terrorism throughout the country.\" On Syria, Netanyahu said he has instructed the Israel Defense Forces \"to thwart potential threats from Syria, and to prevent terrorist elements from taking over near our border.\" He also said the IDF\\'s airstrikes in Syria have destroyed \"capabilities that the Assad regime had built over decades,\" as well as the \"arms supply routes from Syria to Hezbollah.\"'},\n",
              " {'url': 'https://www.cnn.com/world/live-news/syria-civil-war-12-07-2024-intl/index.html',\n",
              "  'content': 'Throngs of demonstrators toppled a colossal sculpture of the father of Syrian President Bashar al-Assad in the southern city of Jaramana Saturday, after regime forces retreated from the area just south of the capital Damascus. Syrian President Bashar al-Assad has not departed from Damascus, despite the fact that a rebel advance towards the capital city is gathering pace, Syria’s presidency said. Russian jets have been assisting Syrian President Bashar al-Assad’s forces in striking rebel fighters since 2015, including when armed opposition rebels launched their latest offensive last week. The rebel alliance is fighting Syrian President Bashar al-Assad’s troops from the northern and southernmost parts of the country, surrounding Damascus. Elsewhere, separate factions of rebels were also battling Syrian President Bashar al-Assad’s forces in the south of the country.'},\n",
              " {'url': 'https://www.goodmorningamerica.com/International/live-updates/middle-east-live-updates-us-embassy-situation-volatile-urges-116818410',\n",
              "  'content': 'Rebel forces in Syria are building a transitional government after toppling the regime of President Bashar Assad in a lightning-quick advance across the country.'},\n",
              " {'url': 'https://www.reuters.com/world/syria/',\n",
              "  'content': \"Syria's Bashar al-Assad said on Monday he was evacuated to Russia from the Hmeimim base in Syria on the evening of Dec. 8 as it came under drone attacks, after leaving Damascus that morning with\"}]"
            ]
          },
          "metadata": {},
          "execution_count": 7
        }
      ]
    },
    {
      "cell_type": "code",
      "source": [
        "from langchain_core.messages.ai import AIMessage\n",
        "\n",
        "ai_message : AIMessage = llm.invoke(\"hy, agentice AI?\")\n",
        "\n",
        "\n"
      ],
      "metadata": {
        "id": "2qJGvLzjaVX2"
      },
      "execution_count": 11,
      "outputs": []
    },
    {
      "cell_type": "code",
      "source": [
        "print(ai_message.content)"
      ],
      "metadata": {
        "colab": {
          "base_uri": "https://localhost:8080/"
        },
        "collapsed": true,
        "id": "uF_mGlaHa7P3",
        "outputId": "8dc9df87-0458-470a-b0fd-c4256b7f2c9c"
      },
      "execution_count": 12,
      "outputs": [
        {
          "output_type": "stream",
          "name": "stdout",
          "text": [
            "Hi there!  As a large language model, I'm an AI, but I don't have an agency in the human sense.  I don't have my own goals, desires, or the ability to act independently in the real world.  I respond to your prompts and questions based on the data I've been trained on.  Is there anything I can help you with today?\n",
            "\n"
          ]
        }
      ]
    },
    {
      "cell_type": "code",
      "source": [
        "from typing_extensions import TypedDict\n",
        "\n",
        "class FirstLLMAgentCall(TypedDict):\n",
        "    prompt: str\n",
        "    response: str"
      ],
      "metadata": {
        "id": "Q0JdgstObLS4"
      },
      "execution_count": 13,
      "outputs": []
    },
    {
      "cell_type": "code",
      "source": [
        "def ai_node(state : FirstLLMAgentCall):\n",
        "  print(\"---Node-1---\", state)\n",
        "  prompt = state[\"prompt\"]\n",
        "  ai_message : AIMessage = llm.invoke(prompt)\n",
        "  return {\"prompt\": prompt, \"response\": ai_message.content}"
      ],
      "metadata": {
        "id": "JQ6SK_FMcaTU"
      },
      "execution_count": 15,
      "outputs": []
    },
    {
      "cell_type": "code",
      "source": [
        "greet_to_agent = ai_node(FirstLLMAgentCall(prompt = \"hy, agentice AI?\"))\n",
        "print(greet_to_agent)\n"
      ],
      "metadata": {
        "colab": {
          "base_uri": "https://localhost:8080/"
        },
        "id": "ss7jY1XHdaxw",
        "outputId": "1ee92fb5-a0f4-40fa-9148-85794aa8d3a5"
      },
      "execution_count": 16,
      "outputs": [
        {
          "output_type": "stream",
          "name": "stdout",
          "text": [
            "---Node-1--- {'prompt': 'hy, agentice AI?'}\n",
            "{'prompt': 'hy, agentice AI?', 'response': \"Hi there!  As a large language model, I'm an AI, but I don't have an agency in the sense of being a business or organization.  I'm a tool created to assist users with information and tasks.  How can I help you today?\\n\"}\n"
          ]
        }
      ]
    }
  ]
}