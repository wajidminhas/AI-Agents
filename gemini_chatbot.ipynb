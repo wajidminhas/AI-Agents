{
  "nbformat": 4,
  "nbformat_minor": 0,
  "metadata": {
    "colab": {
      "provenance": [],
      "authorship_tag": "ABX9TyOSB72Y775okqgEdQi9ebn/",
      "include_colab_link": true
    },
    "kernelspec": {
      "name": "python3",
      "display_name": "Python 3"
    },
    "language_info": {
      "name": "python"
    }
  },
  "cells": [
    {
      "cell_type": "markdown",
      "metadata": {
        "id": "view-in-github",
        "colab_type": "text"
      },
      "source": [
        "<a href=\"https://colab.research.google.com/github/wajidminhas/AI-Agents/blob/main/gemini_chatbot.ipynb\" target=\"_parent\"><img src=\"https://colab.research.google.com/assets/colab-badge.svg\" alt=\"Open In Colab\"/></a>"
      ]
    },
    {
      "cell_type": "code",
      "execution_count": 1,
      "metadata": {
        "id": "GGJVQBbrEViy"
      },
      "outputs": [],
      "source": [
        "%%capture --no-stderr\n",
        "%pip install  -q langchain-community langchain-core langchain_google_genai tavily-python"
      ]
    },
    {
      "cell_type": "code",
      "source": [
        "from langchain_google_genai import ChatGoogleGenerativeAI\n",
        "from google.colab import userdata\n",
        "\n",
        "GEMINI_API_KEY = userdata.get('GEMINI_API_KEY')\n",
        "\n",
        "llm = ChatGoogleGenerativeAI(\n",
        "    model=\"gemini-1.5-flash\",\n",
        "    api_key=GEMINI_API_KEY,\n",
        "    temperature=0\n",
        ")"
      ],
      "metadata": {
        "id": "ezFnbqV-82ic"
      },
      "execution_count": 2,
      "outputs": []
    },
    {
      "cell_type": "code",
      "source": [
        "result = llm.invoke(\"what is the capital of france\")\n",
        "result\n"
      ],
      "metadata": {
        "colab": {
          "base_uri": "https://localhost:8080/"
        },
        "id": "p-SxIUfL_V2T",
        "outputId": "20c33975-1696-4d82-857b-87e0616fac2e"
      },
      "execution_count": 3,
      "outputs": [
        {
          "output_type": "execute_result",
          "data": {
            "text/plain": [
              "AIMessage(content='The capital of France is **Paris**.\\n', additional_kwargs={}, response_metadata={'prompt_feedback': {'block_reason': 0, 'safety_ratings': []}, 'finish_reason': 'STOP', 'safety_ratings': []}, id='run-488f540a-5a5c-4436-955f-7d4814fb1ade-0', usage_metadata={'input_tokens': 7, 'output_tokens': 9, 'total_tokens': 16, 'input_token_details': {'cache_read': 0}})"
            ]
          },
          "metadata": {},
          "execution_count": 3
        }
      ]
    },
    {
      "cell_type": "code",
      "source": [
        "from langchain_core.messages import AIMessage, HumanMessage\n",
        "\n",
        "# msg = HumanMessage(content=\"what is the capital of france\")\n",
        "\n",
        "message = [HumanMessage(content=\"what is the capital of france\", name = \"History Student\"),\n",
        "           AIMessage(content='The capital of France is **Paris**.\\n', name= \"AI Assistent\"),\n",
        "           HumanMessage(content=\"Where is paris situated?\", name= \"History Student\"),\n",
        "           AIMessage(content=\"Paris is situated in **northern France**, on the **Seine River**.\\n\", name = \"AI Assistent\"),\n",
        "           HumanMessage(content=\"So where is France?\", name = \"History Student\"),\n",
        "           HumanMessage(content=\"what is current situation of Syria\", name=\"History Student\")]\n",
        "\n",
        "\n",
        "result = llm.invoke(message)\n",
        "result.content"
      ],
      "metadata": {
        "colab": {
          "base_uri": "https://localhost:8080/",
          "height": 140
        },
        "id": "K7hjmQxmB1R6",
        "outputId": "bee7ed2e-c34b-42e8-dd7a-330adefde406"
      },
      "execution_count": 10,
      "outputs": [
        {
          "output_type": "execute_result",
          "data": {
            "text/plain": [
              "\"The current situation in Syria is incredibly complex and dire, characterized by ongoing conflict, humanitarian crisis, and political instability.  There's no single, simple answer, but here are some key aspects:\\n\\n* **Ongoing Civil War:**  The Syrian Civil War, which began in 2011, continues, though large-scale battles are less frequent than in previous years.  However, sporadic fighting and clashes persist in various regions.  Different factions, including the Syrian government, various rebel groups, Kurdish forces (SDF), and extremist groups (though significantly weakened), remain active.\\n\\n* **Humanitarian Catastrophe:** Millions of Syrians have been displaced, both internally and externally, creating a massive refugee crisis.  Many are living in precarious conditions with limited access to food, water, shelter, and medical care.  The ongoing conflict and economic collapse have exacerbated poverty and hunger.\\n\\n* **Political Division:** The Syrian government, led by Bashar al-Assad, retains control over much of the country, but its authority is far from absolute.  Different regions are controlled by various factions, leading to a fragmented and unstable political landscape.  International efforts to find a political solution have largely stalled.\\n\\n* **Economic Collapse:**  Years of war and sanctions have devastated the Syrian economy.  Hyperinflation, unemployment, and widespread poverty are rampant.  The Syrian pound has lost significant value, making basic necessities unaffordable for many.\\n\\n* **International Involvement:**  Various countries and international organizations are involved in Syria, either through humanitarian aid, military support to different factions, or political negotiations.  However, there is no unified international approach, and differing interests often hinder progress towards a peaceful resolution.\\n\\n* **Reconstruction Challenges:**  Even if the conflict were to end, the task of rebuilding Syria would be immense and incredibly challenging, requiring massive investment and international cooperation.  The scale of destruction and the deep societal divisions make this a long-term and complex undertaking.\\n\\n\\nIn short, Syria remains in a state of protracted crisis, with no clear end in sight.  The situation is constantly evolving, and it's crucial to rely on up-to-date news sources for the most current information.\\n\""
            ],
            "application/vnd.google.colaboratory.intrinsic+json": {
              "type": "string"
            }
          },
          "metadata": {},
          "execution_count": 10
        }
      ]
    },
    {
      "cell_type": "code",
      "source": [
        "import os\n",
        "from langchain_community.tools.tavily_search import TavilySearchResults\n",
        "\n",
        "from google.colab import userdata\n",
        "TAVILY_API_KEY = userdata.get('TAVILY_API_KEY')\n",
        "os.environ[\"TAVILY_API_KEY\"] = userdata.get(\"TAVILY_API_KEY\")\n",
        "\n",
        "\n",
        "tavily_search = TavilySearchResults(max_results=4)\n",
        "\n",
        "search_result = tavily_search.invoke(\"what is the latest situation in Syria\")\n",
        "\n",
        "\n"
      ],
      "metadata": {
        "id": "dHGt1UxTOBgM"
      },
      "execution_count": 8,
      "outputs": []
    },
    {
      "cell_type": "code",
      "source": [
        "search_result."
      ],
      "metadata": {
        "colab": {
          "base_uri": "https://localhost:8080/"
        },
        "id": "nxV0HwjKU8Or",
        "outputId": "100db26b-11e6-4e0d-a106-89aed810ff8e"
      },
      "execution_count": 9,
      "outputs": [
        {
          "output_type": "execute_result",
          "data": {
            "text/plain": [
              "[{'url': 'https://www.nytimes.com/2024/12/06/briefing/syria-civil-war-assad.html',\n",
              "  'content': \"We explain the latest updates in the country's civil war. By David Leonhardt Follow live updates on Syria and the fall of Bashar al-Assad's government. The Syrian Civil War is a long-running\"},\n",
              " {'url': 'https://abcnews.go.com/International/live-updates/syria-live-updates-israel-bombed-syrian-chemical-weapons/?id=116591168',\n",
              "  'content': 'Syria live updates: Putin to give Assad asylum in Russia, Kremlin says - ABC News Syria live updates: Putin to give Assad asylum in Russia, Kremlin says Israeli forces have been striking inside Syria and occupying positions on Syrian territory in recent days, as rebel forces -- some with roots in jihadist organizations -- surged into major Syrian cities and precipitated the collapse of President Bashar Assad\\'s regime in Damascus. Some states provide residents (or, in some cases, their authorized agents) with the right to opt out of “targeted advertising,” “selling,” or “sharing” of personal information. To learn more, visit \"Do Not Sell or Share My Personal Information\" and \"Targeted Advertising\" Opt-Out Rights.'},\n",
              " {'url': 'https://abcnews.go.com/International/live-updates/middle-east-live-updates-us-embassy-situation-volatile-urges/?id=116818410',\n",
              "  'content': 'The embassy in Damascus suspended its operations in 2012. Rebel forces in Syria are building a transitional government after toppling the regime of President Bashar Assad in a lightning-quick'},\n",
              " {'url': 'https://www.reuters.com/world/syria/',\n",
              "  'content': \"Syria's Bashar al-Assad said on Monday he was evacuated to Russia from the Hmeimim base in Syria on the evening of Dec. 8 as it came under drone attacks, after leaving Damascus that morning with\"}]"
            ]
          },
          "metadata": {},
          "execution_count": 9
        }
      ]
    }
  ]
}