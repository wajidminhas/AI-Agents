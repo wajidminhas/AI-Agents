{
  "nbformat": 4,
  "nbformat_minor": 0,
  "metadata": {
    "colab": {
      "provenance": [],
      "authorship_tag": "ABX9TyODcx7lu50HCmg+bYIMGfIP",
      "include_colab_link": true
    },
    "kernelspec": {
      "name": "python3",
      "display_name": "Python 3"
    },
    "language_info": {
      "name": "python"
    }
  },
  "cells": [
    {
      "cell_type": "markdown",
      "metadata": {
        "id": "view-in-github",
        "colab_type": "text"
      },
      "source": [
        "<a href=\"https://colab.research.google.com/github/wajidminhas/AI-Agents/blob/main/reducer_chain.ipynb\" target=\"_parent\"><img src=\"https://colab.research.google.com/assets/colab-badge.svg\" alt=\"Open In Colab\"/></a>"
      ]
    },
    {
      "cell_type": "code",
      "execution_count": 2,
      "metadata": {
        "id": "O0dF09pPkKRq"
      },
      "outputs": [],
      "source": [
        "%%capture --no-stderr\n",
        "%pip install --quiet -U langchain-google-genai langchain_core langgraph"
      ]
    },
    {
      "cell_type": "markdown",
      "source": [
        "create gemini api key to start chat model"
      ],
      "metadata": {
        "id": "ur3aNGVVk4D9"
      }
    },
    {
      "cell_type": "code",
      "source": [
        "from google.colab import userdata\n",
        "google_api_key = userdata.get('GEMINI_API_KEY')"
      ],
      "metadata": {
        "id": "inJNZhu-k17Z"
      },
      "execution_count": 3,
      "outputs": []
    },
    {
      "cell_type": "markdown",
      "source": [
        "here chat model is being created with metadata, using gemini chat model flash 1.5 chat google generative ai"
      ],
      "metadata": {
        "id": "uP5ui-KFlTfI"
      }
    },
    {
      "cell_type": "code",
      "source": [
        "from os import name\n",
        "from langchain_google_genai import ChatGoogleGenerativeAI\n",
        "from langchain_core.messages import HumanMessage, AIMessage\n",
        "from pprint import pprint\n",
        "\n",
        "messages = [AIMessage(content=f\"how can i help you?\", name=\"Model\")]\n",
        "messages.append(HumanMessage(content=f\"i want to enjoy snow falling in northern pakistan\", name=\"Wajid\"))\n",
        "messages.append(AIMessage(content=f\"That sounds like a beautiful idea!\", name=\"Model\"))\n",
        "\n",
        "for m in messages:\n",
        "  # PrettyPrinter(f\"{m.type}: {m.content} (from {m.name})\")\n",
        "  m.pretty_print()\n",
        "\n",
        "llm: ChatGoogleGenerativeAI = ChatGoogleGenerativeAI(model=\"gemini-1.5-flash\", api_key=google_api_key)\n",
        "result = llm.invoke(messages)\n",
        "type(result)"
      ],
      "metadata": {
        "colab": {
          "base_uri": "https://localhost:8080/",
          "height": 395
        },
        "id": "_9YpTp2_ll2z",
        "outputId": "04c1db01-3797-44eb-9dc3-654c16932fba"
      },
      "execution_count": 4,
      "outputs": [
        {
          "output_type": "stream",
          "name": "stdout",
          "text": [
            "==================================\u001b[1m Ai Message \u001b[0m==================================\n",
            "Name: Model\n",
            "\n",
            "how can i help you?\n",
            "================================\u001b[1m Human Message \u001b[0m=================================\n",
            "Name: Wajid\n",
            "\n",
            "i want to enjoy snow falling in northern pakistan\n",
            "==================================\u001b[1m Ai Message \u001b[0m==================================\n",
            "Name: Model\n",
            "\n",
            "That sounds like a beautiful idea!\n"
          ]
        },
        {
          "output_type": "execute_result",
          "data": {
            "text/plain": [
              "langchain_core.messages.ai.AIMessage"
            ],
            "text/html": [
              "<div style=\"max-width:800px; border: 1px solid var(--colab-border-color);\"><style>\n",
              "      pre.function-repr-contents {\n",
              "        overflow-x: auto;\n",
              "        padding: 8px 12px;\n",
              "        max-height: 500px;\n",
              "      }\n",
              "\n",
              "      pre.function-repr-contents.function-repr-contents-collapsed {\n",
              "        cursor: pointer;\n",
              "        max-height: 100px;\n",
              "      }\n",
              "    </style>\n",
              "    <pre style=\"white-space: initial; background:\n",
              "         var(--colab-secondary-surface-color); padding: 8px 12px;\n",
              "         border-bottom: 1px solid var(--colab-border-color);\"><b>langchain_core.messages.ai.AIMessage</b><br/>def __init__(content: Union[str, list[Union[str, dict]]], **kwargs: Any) -&gt; None</pre><pre class=\"function-repr-contents function-repr-contents-collapsed\" style=\"\"><a class=\"filepath\" style=\"display:none\" href=\"#\">/usr/local/lib/python3.10/dist-packages/langchain_core/messages/ai.py</a>Message from an AI.\n",
              "\n",
              "AIMessage is returned from a chat model as a response to a prompt.\n",
              "\n",
              "This message represents the output of the model and consists of both\n",
              "the raw output as returned by the model together standardized fields\n",
              "(e.g., tool calls, usage metadata) added by the LangChain framework.</pre>\n",
              "      <script>\n",
              "      if (google.colab.kernel.accessAllowed && google.colab.files && google.colab.files.view) {\n",
              "        for (const element of document.querySelectorAll('.filepath')) {\n",
              "          element.style.display = 'block'\n",
              "          element.onclick = (event) => {\n",
              "            event.preventDefault();\n",
              "            event.stopPropagation();\n",
              "            google.colab.files.view(element.textContent, 141);\n",
              "          };\n",
              "        }\n",
              "      }\n",
              "      for (const element of document.querySelectorAll('.function-repr-contents')) {\n",
              "        element.onclick = (event) => {\n",
              "          event.preventDefault();\n",
              "          event.stopPropagation();\n",
              "          element.classList.toggle('function-repr-contents-collapsed');\n",
              "        };\n",
              "      }\n",
              "      </script>\n",
              "      </div>"
            ]
          },
          "metadata": {},
          "execution_count": 4
        }
      ]
    },
    {
      "cell_type": "code",
      "source": [
        "result"
      ],
      "metadata": {
        "colab": {
          "base_uri": "https://localhost:8080/"
        },
        "id": "JeZ7dOdMT0pI",
        "outputId": "e905164d-9564-41d2-a26c-2e3ff4a479a6"
      },
      "execution_count": 5,
      "outputs": [
        {
          "output_type": "execute_result",
          "data": {
            "text/plain": [
              "AIMessage(content=\"Enjoying snowfall in Northern Pakistan requires planning, as conditions can vary greatly depending on the specific location and time of year.  Here's a breakdown of how you can best experience it:\\n\\n**1. Choosing a Location & Time:**\\n\\n* **Specific Areas:** Northern Pakistan offers many stunning locations.  Popular choices include:\\n    * **Swat Valley:** Known for its picturesque landscapes and relatively accessible resorts.\\n    * **Hunza Valley:** Famous for its breathtaking scenery, including the Karakoram Highway.\\n    * **Gilgit-Baltistan:** Offers a wider range of experiences, from milder snowfall in lower valleys to heavy snow in higher altitudes.  Consider areas like Naran Kaghan, or even higher up towards the glaciers.\\n    * **Neelum Valley (Azad Kashmir):**  Another beautiful valley with stunning snow-covered landscapes.\\n\\n* **Time of Year:** Snowfall typically occurs from late autumn (November) to early spring (March/April), with the heaviest snowfall usually in December, January, and February.  Be aware that accessibility to some areas can be severely limited during the peak of winter due to road closures.  Check weather forecasts and road conditions *before* you travel.\\n\\n**2. Planning Your Trip:**\\n\\n* **Transportation:**  Internal travel in Northern Pakistan often involves a mix of jeeps, buses, and sometimes even trekking.  Consider hiring a driver or joining organized tours, especially if you're unfamiliar with the roads and conditions.  4x4 vehicles are highly recommended during snowy periods.\\n* **Accommodation:**  Options range from luxury hotels to guesthouses and homestays. Book in advance, especially during peak season.\\n* **Clothing:** Pack warm, waterproof clothing. Layers are crucial. This includes thermal underwear, fleece jackets, waterproof outerwear, warm hats, gloves, and scarves.  Good quality hiking boots are essential, especially if you plan on any trekking.\\n* **Safety:**  Inform someone of your itinerary and expected return.  Be aware of potential risks like avalanches (especially at higher altitudes), slippery roads, and sudden changes in weather.  Consider travel insurance.\\n* **Permits:** Check if any permits are required for visiting certain areas.\\n* **Guides:** Hiring a local guide can significantly enhance your experience, providing insights into the region's culture and ensuring your safety.\\n\\n\\n**3. Activities to Enjoy:**\\n\\n* **Simply watching the snowfall:** Find a cozy spot, perhaps a teahouse or your hotel balcony, and enjoy the serene beauty of the falling snow.\\n* **Photography:** Northern Pakistan provides incredible photographic opportunities.\\n* **Trekking (if experienced and conditions permit):**  Many trails offer breathtaking views, but only attempt this if you're experienced and the weather/trail conditions are safe.\\n* **Skiing/Snowboarding (at appropriate resorts):** Some areas have skiing facilities.\\n* **Exploring local villages:** Interact with the friendly locals and learn about their culture.\\n\\n\\n**Before You Go:**\\n\\n* **Check weather forecasts regularly:** Conditions can change rapidly in mountainous regions.\\n* **Research road conditions:**  Many roads are prone to closures during heavy snowfall.\\n* **Book accommodations and transportation in advance:**  This is especially crucial during peak season.\\n\\nBy carefully planning your trip and taking necessary precautions, you can have an unforgettable experience enjoying the snowfall in Northern Pakistan. Remember to be respectful of the local environment and culture.\\n\", additional_kwargs={}, response_metadata={'prompt_feedback': {'block_reason': 0, 'safety_ratings': []}, 'finish_reason': 'STOP', 'safety_ratings': []}, id='run-ffba4533-6c72-42ed-a8fb-d3145864cb93-0', usage_metadata={'input_tokens': 25, 'output_tokens': 706, 'total_tokens': 731, 'input_token_details': {'cache_read': 0}})"
            ]
          },
          "metadata": {},
          "execution_count": 5
        }
      ]
    },
    {
      "cell_type": "code",
      "source": [
        "def personalize(name: str, place: str)-> str:\n",
        "  \"\"\"\n",
        "  here a person will give his name to find information of his location,\n",
        "\n",
        "  arg\n",
        "  name: str\n",
        "  place: str\n",
        "\n",
        "  return\n",
        "  str\n",
        "  \"\"\"\n",
        "  return f\"{name} is from {place}\"\n",
        "\n",
        "llm_with_toolcall : ChatGoogleGenerativeAI = llm.bind_tools([personalize])\n"
      ],
      "metadata": {
        "id": "Kuox6HpUT8t4"
      },
      "execution_count": 6,
      "outputs": []
    },
    {
      "cell_type": "code",
      "source": [
        "tool_call = llm_with_toolcall.invoke([HumanMessage(content=f\"my name is wajid and my place is jhelum, what do you know about jhelum\", name=\"wajid\")])\n",
        "tool_call"
      ],
      "metadata": {
        "colab": {
          "base_uri": "https://localhost:8080/"
        },
        "id": "dbg6j-bjVVGn",
        "outputId": "9eb91240-ac0d-454b-e236-6711012ded4e"
      },
      "execution_count": 7,
      "outputs": [
        {
          "output_type": "execute_result",
          "data": {
            "text/plain": [
              "AIMessage(content='', additional_kwargs={'function_call': {'name': 'personalize', 'arguments': '{\"place\": \"jhelum\", \"name\": \"wajid\"}'}}, response_metadata={'prompt_feedback': {'block_reason': 0, 'safety_ratings': []}, 'finish_reason': 'STOP', 'safety_ratings': []}, id='run-6635c22b-5a5e-474f-95e6-571d1415f6f3-0', tool_calls=[{'name': 'personalize', 'args': {'place': 'jhelum', 'name': 'wajid'}, 'id': 'a1b8589e-475f-4455-831f-f123b4e6d200', 'type': 'tool_call'}], usage_metadata={'input_tokens': 90, 'output_tokens': 9, 'total_tokens': 99, 'input_token_details': {'cache_read': 0}})"
            ]
          },
          "metadata": {},
          "execution_count": 7
        }
      ]
    },
    {
      "cell_type": "code",
      "source": [
        "def multiply(a: int, b: int) -> int:\n",
        "    \"\"\"Multiply a and b.\n",
        "\n",
        "    Args:\n",
        "        a: first int\n",
        "        b: second int\n",
        "    \"\"\"\n",
        "    return a * b\n",
        "\n",
        "llm_with_tools: ChatGoogleGenerativeAI = llm.bind_tools([multiply])"
      ],
      "metadata": {
        "id": "Veyl5hnKlAr7"
      },
      "execution_count": 16,
      "outputs": []
    },
    {
      "cell_type": "markdown",
      "source": [
        "TO CHECK ADDITIONAL KEYWORD ARGUMENTS MEAN METADATA"
      ],
      "metadata": {
        "id": "7VJVCNyRW0hS"
      }
    },
    {
      "cell_type": "code",
      "source": [
        "tool_call.additional_kwargs"
      ],
      "metadata": {
        "colab": {
          "base_uri": "https://localhost:8080/"
        },
        "id": "qXiOlRrJWzXV",
        "outputId": "83ad0f5a-f3b9-4381-a30c-e89360d927cf"
      },
      "execution_count": 8,
      "outputs": [
        {
          "output_type": "execute_result",
          "data": {
            "text/plain": [
              "{'function_call': {'name': 'personalize',\n",
              "  'arguments': '{\"place\": \"jhelum\", \"name\": \"wajid\"}'}}"
            ]
          },
          "metadata": {},
          "execution_count": 8
        }
      ]
    },
    {
      "cell_type": "markdown",
      "source": [
        "Message using as state"
      ],
      "metadata": {
        "id": "UQyKeXzYXOE_"
      }
    },
    {
      "cell_type": "code",
      "source": [
        "# from typing_extensions import TypedDict\n",
        "# from langchain_core.messages import AnyMessage, AIMessage, HumanMessage\n",
        "\n",
        "# class State(TypedDict):\n",
        "#   messages: list[AnyMessage]"
      ],
      "metadata": {
        "id": "ZLo41ojOXKY2"
      },
      "execution_count": 9,
      "outputs": []
    },
    {
      "cell_type": "code",
      "source": [
        "# from langgraph.graph import MessagesState\n",
        "\n",
        "# class MessagesState(MessagesState):\n",
        "\n",
        "#     pass"
      ],
      "metadata": {
        "id": "wdQt4kRMZGKs"
      },
      "execution_count": 10,
      "outputs": []
    },
    {
      "cell_type": "code",
      "source": [
        "# from IPython.display import Image, display\n",
        "# from langgraph.graph import StateGraph, START, END\n",
        "# from langgraph.graph.state import CompiledStateGraph\n",
        "\n",
        "# # Node\n",
        "# def tool_calling_llm(state: MessagesState):\n",
        "#     return {\"messages\": [llm_with_toolcall.invoke(state[\"messages\"])]}\n",
        "\n",
        "# # Build graph\n",
        "# builder: StateGraph = StateGraph(MessagesState)\n",
        "# builder.add_node(\"tool_calling_llm\", tool_calling_llm)\n",
        "# builder.add_edge(START, \"tool_calling_llm\")\n",
        "# builder.add_edge(\"tool_calling_llm\", END)\n",
        "# graph: CompiledStateGraph  = builder.compile()\n",
        "\n",
        "# # View\n",
        "# display(Image(graph.get_graph().draw_mermaid_png()))"
      ],
      "metadata": {
        "id": "gq7ywVxsZMGl"
      },
      "execution_count": 24,
      "outputs": []
    },
    {
      "cell_type": "code",
      "source": [
        "# messages = graph.invoke({\"messages\": HumanMessage(content=\"Hello!\")})\n",
        "# for m in messages['messages']:\n",
        "#     m.pretty_print()"
      ],
      "metadata": {
        "colab": {
          "base_uri": "https://localhost:8080/"
        },
        "id": "nR5FJ8JKZj9X",
        "outputId": "d586a673-0742-4ca1-93f6-5f2919a51954"
      },
      "execution_count": 12,
      "outputs": [
        {
          "output_type": "stream",
          "name": "stdout",
          "text": [
            "================================\u001b[1m Human Message \u001b[0m=================================\n",
            "\n",
            "Hello!\n",
            "==================================\u001b[1m Ai Message \u001b[0m==================================\n",
            "\n",
            "Hello! How can I help you?\n"
          ]
        }
      ]
    },
    {
      "cell_type": "code",
      "source": [
        "# messages = graph.invoke({\"messages\": HumanMessage(content=\"my name is wajid and my place is jhelum, what do you know about my place\")})\n",
        "# for m in messages['messages']:\n",
        "#     m.pretty_print()"
      ],
      "metadata": {
        "colab": {
          "base_uri": "https://localhost:8080/"
        },
        "id": "ZRRZp9nAZrBG",
        "outputId": "ef671419-fa53-4f49-ca29-9011fb2bfaac"
      },
      "execution_count": 14,
      "outputs": [
        {
          "output_type": "stream",
          "name": "stdout",
          "text": [
            "================================\u001b[1m Human Message \u001b[0m=================================\n",
            "\n",
            "my name is wajid and my place is jhelum, what do you know about my place\n",
            "==================================\u001b[1m Ai Message \u001b[0m==================================\n",
            "Tool Calls:\n",
            "  personalize (d62bd480-c8b3-4f5c-ad08-c296c30fad55)\n",
            " Call ID: d62bd480-c8b3-4f5c-ad08-c296c30fad55\n",
            "  Args:\n",
            "    place: jhelum\n",
            "    name: wajid\n"
          ]
        }
      ]
    },
    {
      "cell_type": "code",
      "source": [
        "from IPython.display import Image, display\n",
        "from langgraph.graph import StateGraph, START, END\n",
        "from langgraph.graph import MessagesState\n",
        "from langgraph.prebuilt import ToolNode\n",
        "from langgraph.prebuilt import tools_condition\n",
        "from langgraph.graph.state import CompiledStateGraph\n",
        "\n",
        "# Node\n",
        "def tool_calling_llm(state: MessagesState) -> MessagesState:\n",
        "    return {\"messages\": [llm_with_toolcall.invoke(state[\"messages\"])],  \"messages\" : [llm_with_tools.invoke(state[\"messages\"])]}\n",
        "\n",
        "# Build graph\n",
        "builder: StateGraph = StateGraph(MessagesState)\n",
        "builder.add_node(\"tool_calling_llm\", tool_calling_llm)\n",
        "builder.add_node(\"tools\", ToolNode([personalize, multiply]))\n",
        "builder.add_edge(START, \"tool_calling_llm\")\n",
        "builder.add_conditional_edges(\n",
        "    \"tool_calling_llm\",\n",
        "    # If the latest message (result) from assistant is a tool call -> tools_condition routes to tools\n",
        "    # If the latest message (result) from assistant is a not a tool call -> tools_condition routes to END\n",
        "    tools_condition,\n",
        ")\n",
        "builder.add_edge(\"tools\", END)\n",
        "graph: CompiledStateGraph = builder.compile()\n",
        "\n",
        "# View\n",
        "display(Image(graph.get_graph().draw_mermaid_png()))"
      ],
      "metadata": {
        "colab": {
          "base_uri": "https://localhost:8080/",
          "height": 350
        },
        "id": "lhhN85HZkgd4",
        "outputId": "97a84f3e-9262-4487-993e-a26c881281c7"
      },
      "execution_count": 25,
      "outputs": [
        {
          "output_type": "display_data",
          "data": {
            "image/png": "[encoded data removed]",
            "text/plain": [
              "<IPython.core.display.Image object>"
            ]
          },
          "metadata": {}
        }
      ]
    },
    {
      "cell_type": "code",
      "source": [
        "from langchain_core.messages import HumanMessage, SystemMessage\n",
        "messages = [SystemMessage(content=\"\") , HumanMessage(content=\"hi\")]\n",
        "messages = graph.invoke({\"messages\": messages})\n",
        "for m in messages['messages']:\n",
        "    m.pretty_print()"
      ],
      "metadata": {
        "colab": {
          "base_uri": "https://localhost:8080/"
        },
        "id": "VcGCTVBdsVlm",
        "outputId": "eb6f1a98-3d1e-4839-ca61-ab263aa75361"
      },
      "execution_count": 26,
      "outputs": [
        {
          "output_type": "stream",
          "name": "stdout",
          "text": [
            "================================\u001b[1m System Message \u001b[0m================================\n",
            "\n",
            "\n",
            "================================\u001b[1m Human Message \u001b[0m=================================\n",
            "\n",
            "hi\n",
            "==================================\u001b[1m Ai Message \u001b[0m==================================\n",
            "\n",
            "Hello! How can I help you today?\n"
          ]
        }
      ]
    },
    {
      "cell_type": "code",
      "source": [
        "from langchain_core.messages import HumanMessage, SystemMessage\n",
        "messages = [SystemMessage(content=\"\") , HumanMessage(content=\"What is a multiply of 2 and 3\")]\n",
        "messages = graph.invoke({\"messages\": messages})\n",
        "for m in messages['messages']:\n",
        "    m.pretty_print()"
      ],
      "metadata": {
        "colab": {
          "base_uri": "https://localhost:8080/"
        },
        "id": "dmtvvf1-szpa",
        "outputId": "05174d53-48cd-42ae-c1fc-20946bd2330d"
      },
      "execution_count": 27,
      "outputs": [
        {
          "output_type": "stream",
          "name": "stdout",
          "text": [
            "================================\u001b[1m System Message \u001b[0m================================\n",
            "\n",
            "\n",
            "================================\u001b[1m Human Message \u001b[0m=================================\n",
            "\n",
            "What is a multiply of 2 and 3\n",
            "==================================\u001b[1m Ai Message \u001b[0m==================================\n",
            "Tool Calls:\n",
            "  multiply (b47f4ca5-db51-48ed-802d-d41efebc724f)\n",
            " Call ID: b47f4ca5-db51-48ed-802d-d41efebc724f\n",
            "  Args:\n",
            "    a: 2.0\n",
            "    b: 3.0\n",
            "=================================\u001b[1m Tool Message \u001b[0m=================================\n",
            "Name: multiply\n",
            "\n",
            "6\n"
          ]
        }
      ]
    },
    {
      "cell_type": "code",
      "source": [
        "from langchain_core.messages import HumanMessage, SystemMessage\n",
        "messages = [SystemMessage(content=\"\") , HumanMessage(content=\"my name is wajid and place is district jhelum\")]\n",
        "messages = graph.invoke({\"messages\": messages})\n",
        "for m in messages['messages']:\n",
        "    m.pretty_print()"
      ],
      "metadata": {
        "colab": {
          "base_uri": "https://localhost:8080/"
        },
        "id": "UofXB5jQs3Ta",
        "outputId": "ae615a7d-96de-440b-b692-f0592c13dd75"
      },
      "execution_count": 28,
      "outputs": [
        {
          "output_type": "stream",
          "name": "stdout",
          "text": [
            "================================\u001b[1m System Message \u001b[0m================================\n",
            "\n",
            "\n",
            "================================\u001b[1m Human Message \u001b[0m=================================\n",
            "\n",
            "my name is wajid and place is district jhelum\n",
            "==================================\u001b[1m Ai Message \u001b[0m==================================\n",
            "\n",
            "Nice to meet you, Wajid from District Jhelum!  Is there anything I can help you with today?\n"
          ]
        }
      ]
    }
  ]
}