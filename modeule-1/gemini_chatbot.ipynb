{
  "nbformat": 4,
  "nbformat_minor": 0,
  "metadata": {
    "colab": {
      "provenance": [],
      "authorship_tag": "ABX9TyOeyXNGOFRnEjtekLRt6WZ3",
      "include_colab_link": true
    },
    "kernelspec": {
      "name": "python3",
      "display_name": "Python 3"
    },
    "language_info": {
      "name": "python"
    }
  },
  "cells": [
    {
      "cell_type": "markdown",
      "metadata": {
        "id": "view-in-github",
        "colab_type": "text"
      },
      "source": [
        "<a href=\"https://colab.research.google.com/github/wajidminhas/AI-Agents/blob/main/gemini_chatbot.ipynb\" target=\"_parent\"><img src=\"https://colab.research.google.com/assets/colab-badge.svg\" alt=\"Open In Colab\"/></a>"
      ]
    },
    {
      "cell_type": "code",
      "execution_count": 8,
      "metadata": {
        "id": "GGJVQBbrEViy"
      },
      "outputs": [],
      "source": [
        "%%capture --no-stderr\n",
        "%pip install  -q langchain-community langchain-core langchain_google_genai tavily-python"
      ]
    },
    {
      "cell_type": "code",
      "source": [
        "from langchain_google_genai import ChatGoogleGenerativeAI\n",
        "from google.colab import userdata\n",
        "\n",
        "GEMINI_API_KEY = userdata.get('GEMINI_API_KEY')\n",
        "\n",
        "llm = ChatGoogleGenerativeAI(\n",
        "    model=\"gemini-1.5-flash\",\n",
        "    api_key=GEMINI_API_KEY,\n",
        "    temperature=0\n",
        ")"
      ],
      "metadata": {
        "id": "ezFnbqV-82ic"
      },
      "execution_count": 9,
      "outputs": []
    },
    {
      "cell_type": "code",
      "source": [
        "result = llm.invoke(\"what is the capital of france\")\n",
        "result\n"
      ],
      "metadata": {
        "colab": {
          "base_uri": "https://localhost:8080/"
        },
        "id": "p-SxIUfL_V2T",
        "outputId": "e3038623-bf72-432d-ef49-7e861fc7a906"
      },
      "execution_count": 10,
      "outputs": [
        {
          "output_type": "execute_result",
          "data": {
            "text/plain": [
              "AIMessage(content='The capital of France is **Paris**.\\n', additional_kwargs={}, response_metadata={'prompt_feedback': {'block_reason': 0, 'safety_ratings': []}, 'finish_reason': 'STOP', 'safety_ratings': []}, id='run-985353e3-c42f-446b-a34b-0d4c1e046795-0', usage_metadata={'input_tokens': 7, 'output_tokens': 9, 'total_tokens': 16, 'input_token_details': {'cache_read': 0}})"
            ]
          },
          "metadata": {},
          "execution_count": 10
        }
      ]
    },
    {
      "cell_type": "code",
      "source": [
        "from langchain_core.messages import AIMessage, HumanMessage\n",
        "\n",
        "# msg = HumanMessage(content=\"what is the capital of france\")\n",
        "\n",
        "message = [HumanMessage(content=\"what is the capital of france\", name = \"History Student\"),\n",
        "           AIMessage(content='The capital of France is **Paris**.\\n', name= \"AI Assistent\"),\n",
        "           HumanMessage(content=\"Where is paris situated?\", name= \"History Student\"),\n",
        "           AIMessage(content=\"Paris is situated in **northern France**, on the **Seine River**.\\n\", name = \"AI Assistent\"),\n",
        "           HumanMessage(content=\"So where is France?\", name = \"History Student\"),\n",
        "           HumanMessage(content=\"what is current situation of Syria\", name=\"History Student\")]\n",
        "\n",
        "\n",
        "result = llm.invoke(message)\n",
        "result.content"
      ],
      "metadata": {
        "colab": {
          "base_uri": "https://localhost:8080/",
          "height": 140
        },
        "id": "K7hjmQxmB1R6",
        "outputId": "4cc3b581-41b3-40f3-e1f8-30e2744ba9b2"
      },
      "execution_count": 11,
      "outputs": [
        {
          "output_type": "execute_result",
          "data": {
            "text/plain": [
              "\"The current situation in Syria is incredibly complex and dire, characterized by ongoing conflict, humanitarian crisis, and political instability.  There's no single, simple answer, but here are some key aspects:\\n\\n* **Ongoing Civil War:**  The Syrian Civil War, which began in 2011, continues, though large-scale battles are less frequent than in previous years.  However, sporadic fighting and clashes persist in various regions.  Different factions, including the Syrian government, various rebel groups, Kurdish forces (SDF), and extremist groups (though significantly weakened), remain active.\\n\\n* **Humanitarian Catastrophe:** Millions of Syrians have been displaced, both internally and externally, creating a massive refugee crisis.  Many are living in precarious conditions with limited access to food, water, shelter, and healthcare.  The ongoing conflict and economic collapse have exacerbated poverty and hunger.\\n\\n* **Political Landscape:** The Assad regime, backed by Russia and Iran, remains in power, but its control is far from absolute.  Large parts of the country are still contested, and the future political structure of Syria remains uncertain.  International efforts to find a political solution have largely stalled.\\n\\n* **Economic Collapse:**  Years of war and sanctions have devastated the Syrian economy.  Hyperinflation, unemployment, and widespread poverty are rampant.  The country's infrastructure has been severely damaged.\\n\\n* **ISIS Presence:** While ISIS has lost most of its territorial control, sleeper cells and smaller groups remain active, posing a security threat.\\n\\n* **International Involvement:**  Several countries, including Russia, Iran, Turkey, and the United States, are involved in the Syrian conflict, either directly or indirectly, often supporting opposing sides, further complicating the situation.\\n\\nIn short, Syria remains deeply fractured and unstable.  The humanitarian situation is critical, and the prospects for a peaceful and stable future remain uncertain.  To get the most up-to-date information, it's best to consult reputable news sources and organizations that specialize in monitoring the Syrian conflict.\\n\""
            ],
            "application/vnd.google.colaboratory.intrinsic+json": {
              "type": "string"
            }
          },
          "metadata": {},
          "execution_count": 11
        }
      ]
    },
    {
      "cell_type": "code",
      "source": [
        "import os\n",
        "from langchain_community.tools.tavily_search import TavilySearchResults\n",
        "\n",
        "from google.colab import userdata\n",
        "TAVILY_API_KEY = userdata.get('TAVILY_API_KEY')\n",
        "os.environ[\"TAVILY_API_KEY\"] = userdata.get(\"TAVILY_API_KEY\")\n",
        "\n",
        "\n",
        "tavily_search = TavilySearchResults(max_results=4)\n",
        "\n",
        "search_result = tavily_search.invoke(\"what is the latest situation in Syria\")\n",
        "\n",
        "\n"
      ],
      "metadata": {
        "id": "dHGt1UxTOBgM"
      },
      "execution_count": 12,
      "outputs": []
    },
    {
      "cell_type": "code",
      "source": [
        "search_result"
      ],
      "metadata": {
        "colab": {
          "base_uri": "https://localhost:8080/"
        },
        "id": "aa1I8NgEZxEO",
        "outputId": "4ebef0d4-f04f-4bad-9a9d-05bde92ebac6"
      },
      "execution_count": 13,
      "outputs": [
        {
          "output_type": "execute_result",
          "data": {
            "text/plain": [
              "[{'url': 'https://www.cfr.org/global-conflict-tracker/conflict/conflict-syria',\n",
              "  'content': 'According to the U.S.-led coalition against the Islamic State, Iraqi security forces and the SDF have reclaimed 98 percent of the territory formerly held by the group in Iraq and Syria, including Raqqa and Deir al-Zour.\\nWith Russian and Iranian support, the Syrian government has steadily regained control of territory from opposition forces, including the opposition’s stronghold in Aleppo in 2016. What began as protests against President Assad’s regime in 2011 quickly escalated into a full-scale war between the Syrian government—backed by Russia and Iran—and anti-government rebel groups—backed by the United States and a rotating number of U.S. allies, including European allies like France, the United Kingdom, and Italy, as well as regional players like Saudi Arabia, Turkey, Jordan, and the UAE. After a series of terrorist attacks coordinated by the Islamic State across Europe in 2015, the United States, the United Kingdom, and France—with the support of Turkey, Saudi Arabia, and other Arab partners—expanded their air campaign in Iraq to include Syria. The departure of most U.S. troops has increased uncertainty around the role of other external parties to the conflict—including Iran, Israel, Russia, and Turkey—as well as the future of internal actors. Meanwhile, at the request of the Syrian government in September 2015, Russia began launching air strikes against what it claimed were Islamic State targets, while Syrian government forces achieved several notable victories over the Islamic State, including the reclamation of Palmyra.'},\n",
              " {'url': 'https://abcnews.go.com/International/live-updates/middle-east-live-updates-us-embassy-situation-volatile-urges/?id=116818410',\n",
              "  'content': 'Syria live updates: US embassy says situation \\'volatile,\\' urges citizens to leave - ABC News The U.S. Embassy in Damascus -- which suspended operations in 2012 -- said in a Monday post to X that the \"security situation in Syria continues to be volatile and unpredictable with armed conflict and terrorism throughout the country.\" On Syria, Netanyahu said he has instructed the Israel Defense Forces \"to thwart potential threats from Syria, and to prevent terrorist elements from taking over near our border.\" He also said the IDF\\'s airstrikes in Syria have destroyed \"capabilities that the Assad regime had built over decades,\" as well as the \"arms supply routes from Syria to Hezbollah.\"'},\n",
              " {'url': 'https://www.nbcnews.com/news/world/live-blog/syria-damascus-rebel-capture-rcna183344',\n",
              "  'content': 'A coalition of Syrian rebels say they have toppled the government of President Bashar al-Assad and captured the Syrian capital of Damascus. The location of Bashar al-Assad, who had been Syria\\'s president for over two decades was not immediately known, although multiple media reports indicate he has left Damascus. Syrian rebels announced on state television today that they have \"liberated\" Damascus and overthrown \"the tyrant Bashar Al-Assad.\" Rebel fighters say they have captured the Syrian capital of Damascus, as government forces loyal to the country’s\\xa0president, Bashar al-Assad,\\xa0were routed in a matter of days. “We declare the city of Damascus free from the tyrant Bashar al-Assad,” Hassan Abdul-Ghani, senior commander of the militant group\\xa0Hayat Tahrir al-Sham, known as HTS, said in a post on WhatsApp.'},\n",
              " {'url': 'https://www.nbcnews.com/news/world/syria-assad-fall-rebels-hts-what-now-rcna183401',\n",
              "  'content': '“There is undoubtedly justified optimism in Syria today after the overthrow of the brutalizing dictatorship of Assad,” said Burcu Ozcelik, a senior research fellow at the Royal United Services Institute, a London-based think tank. It soon became a head-spinning, complex conflict, with Iran, Russia and Hezbollah lining up behind Assad and the U.S., Turkey and others supporting different rebel groups, which in turn fought not just each other but also the Islamic State terror group as it captured and then surrendered large swaths of Syria and Iraq. In Assad, Iran has lost a key pillar of its vaunted “Axis of Resistance,” after backing Syria with funds and armed forces.'}]"
            ]
          },
          "metadata": {},
          "execution_count": 13
        }
      ]
    },
    {
      "cell_type": "code",
      "source": [
        "from langchain_core.messages.ai import AIMessage\n",
        "\n",
        "ai_message : AIMessage = llm.invoke(\"hy, agentice AI?\")\n",
        "\n",
        "\n"
      ],
      "metadata": {
        "id": "2qJGvLzjaVX2"
      },
      "execution_count": 14,
      "outputs": []
    },
    {
      "cell_type": "code",
      "source": [
        "print(ai_message.content)"
      ],
      "metadata": {
        "colab": {
          "base_uri": "https://localhost:8080/"
        },
        "collapsed": true,
        "id": "uF_mGlaHa7P3",
        "outputId": "a5fff340-4b46-41ad-88ed-b0916be7d3c0"
      },
      "execution_count": 15,
      "outputs": [
        {
          "output_type": "stream",
          "name": "stdout",
          "text": [
            "Hi there!  As a large language model, I'm an AI, but I don't have an agency in the human sense.  I don't have my own goals, desires, or the ability to act independently in the real world.  I respond to your prompts and questions based on the data I've been trained on.  Is there anything I can help you with today?\n",
            "\n"
          ]
        }
      ]
    },
    {
      "cell_type": "code",
      "source": [
        "from typing_extensions import TypedDict\n",
        "\n",
        "class FirstLLMAgentCall(TypedDict):\n",
        "    prompt: str\n",
        "    response: str"
      ],
      "metadata": {
        "id": "Q0JdgstObLS4"
      },
      "execution_count": 16,
      "outputs": []
    },
    {
      "cell_type": "code",
      "source": [
        "def ai_node(state : FirstLLMAgentCall):\n",
        "  print(\"---Node-1---\", state)\n",
        "  prompt = state[\"prompt\"]\n",
        "  ai_message : AIMessage = llm.invoke(prompt)\n",
        "  return {\"prompt\": prompt, \"response\": ai_message.content}"
      ],
      "metadata": {
        "id": "JQ6SK_FMcaTU"
      },
      "execution_count": 17,
      "outputs": []
    },
    {
      "cell_type": "code",
      "source": [
        "greet_to_agent = ai_node(FirstLLMAgentCall(prompt = \"hy, agentice AI?\"))\n",
        "print(greet_to_agent)\n"
      ],
      "metadata": {
        "colab": {
          "base_uri": "https://localhost:8080/"
        },
        "id": "ss7jY1XHdaxw",
        "outputId": "093d3104-d862-4a71-d682-5210f1a09097"
      },
      "execution_count": 18,
      "outputs": [
        {
          "output_type": "stream",
          "name": "stdout",
          "text": [
            "---Node-1--- {'prompt': 'hy, agentice AI?'}\n",
            "{'prompt': 'hy, agentice AI?', 'response': \"Hi there!  As a large language model, I'm an AI, but I don't have an agency in the human sense.  I don't have personal goals, beliefs, or the ability to act independently in the real world.  I respond to your prompts based on the data I've been trained on.  Is there anything I can help you with today?\\n\"}\n"
          ]
        }
      ]
    },
    {
      "cell_type": "code",
      "source": [
        "!pip install langgraph"
      ],
      "metadata": {
        "colab": {
          "base_uri": "https://localhost:8080/"
        },
        "collapsed": true,
        "id": "mSJxj1WkBCaZ",
        "outputId": "f949b5a6-1813-4b08-d6d5-7aa55a888299"
      },
      "execution_count": 19,
      "outputs": [
        {
          "output_type": "stream",
          "name": "stdout",
          "text": [
            "Requirement already satisfied: langgraph in /usr/local/lib/python3.10/dist-packages (0.2.59)\n",
            "Requirement already satisfied: langchain-core!=0.3.0,!=0.3.1,!=0.3.10,!=0.3.11,!=0.3.12,!=0.3.13,!=0.3.14,!=0.3.15,!=0.3.16,!=0.3.17,!=0.3.18,!=0.3.19,!=0.3.2,!=0.3.20,!=0.3.21,!=0.3.22,!=0.3.3,!=0.3.4,!=0.3.5,!=0.3.6,!=0.3.7,!=0.3.8,!=0.3.9,<0.4.0,>=0.2.43 in /usr/local/lib/python3.10/dist-packages (from langgraph) (0.3.25)\n",
            "Requirement already satisfied: langgraph-checkpoint<3.0.0,>=2.0.4 in /usr/local/lib/python3.10/dist-packages (from langgraph) (2.0.9)\n",
            "Requirement already satisfied: langgraph-sdk<0.2.0,>=0.1.42 in /usr/local/lib/python3.10/dist-packages (from langgraph) (0.1.46)\n",
            "Requirement already satisfied: PyYAML>=5.3 in /usr/local/lib/python3.10/dist-packages (from langchain-core!=0.3.0,!=0.3.1,!=0.3.10,!=0.3.11,!=0.3.12,!=0.3.13,!=0.3.14,!=0.3.15,!=0.3.16,!=0.3.17,!=0.3.18,!=0.3.19,!=0.3.2,!=0.3.20,!=0.3.21,!=0.3.22,!=0.3.3,!=0.3.4,!=0.3.5,!=0.3.6,!=0.3.7,!=0.3.8,!=0.3.9,<0.4.0,>=0.2.43->langgraph) (6.0.2)\n",
            "Requirement already satisfied: jsonpatch<2.0,>=1.33 in /usr/local/lib/python3.10/dist-packages (from langchain-core!=0.3.0,!=0.3.1,!=0.3.10,!=0.3.11,!=0.3.12,!=0.3.13,!=0.3.14,!=0.3.15,!=0.3.16,!=0.3.17,!=0.3.18,!=0.3.19,!=0.3.2,!=0.3.20,!=0.3.21,!=0.3.22,!=0.3.3,!=0.3.4,!=0.3.5,!=0.3.6,!=0.3.7,!=0.3.8,!=0.3.9,<0.4.0,>=0.2.43->langgraph) (1.33)\n",
            "Requirement already satisfied: langsmith<0.3,>=0.1.125 in /usr/local/lib/python3.10/dist-packages (from langchain-core!=0.3.0,!=0.3.1,!=0.3.10,!=0.3.11,!=0.3.12,!=0.3.13,!=0.3.14,!=0.3.15,!=0.3.16,!=0.3.17,!=0.3.18,!=0.3.19,!=0.3.2,!=0.3.20,!=0.3.21,!=0.3.22,!=0.3.3,!=0.3.4,!=0.3.5,!=0.3.6,!=0.3.7,!=0.3.8,!=0.3.9,<0.4.0,>=0.2.43->langgraph) (0.2.2)\n",
            "Requirement already satisfied: packaging<25,>=23.2 in /usr/local/lib/python3.10/dist-packages (from langchain-core!=0.3.0,!=0.3.1,!=0.3.10,!=0.3.11,!=0.3.12,!=0.3.13,!=0.3.14,!=0.3.15,!=0.3.16,!=0.3.17,!=0.3.18,!=0.3.19,!=0.3.2,!=0.3.20,!=0.3.21,!=0.3.22,!=0.3.3,!=0.3.4,!=0.3.5,!=0.3.6,!=0.3.7,!=0.3.8,!=0.3.9,<0.4.0,>=0.2.43->langgraph) (24.2)\n",
            "Requirement already satisfied: pydantic<3.0.0,>=2.5.2 in /usr/local/lib/python3.10/dist-packages (from langchain-core!=0.3.0,!=0.3.1,!=0.3.10,!=0.3.11,!=0.3.12,!=0.3.13,!=0.3.14,!=0.3.15,!=0.3.16,!=0.3.17,!=0.3.18,!=0.3.19,!=0.3.2,!=0.3.20,!=0.3.21,!=0.3.22,!=0.3.3,!=0.3.4,!=0.3.5,!=0.3.6,!=0.3.7,!=0.3.8,!=0.3.9,<0.4.0,>=0.2.43->langgraph) (2.10.3)\n",
            "Requirement already satisfied: tenacity!=8.4.0,<10.0.0,>=8.1.0 in /usr/local/lib/python3.10/dist-packages (from langchain-core!=0.3.0,!=0.3.1,!=0.3.10,!=0.3.11,!=0.3.12,!=0.3.13,!=0.3.14,!=0.3.15,!=0.3.16,!=0.3.17,!=0.3.18,!=0.3.19,!=0.3.2,!=0.3.20,!=0.3.21,!=0.3.22,!=0.3.3,!=0.3.4,!=0.3.5,!=0.3.6,!=0.3.7,!=0.3.8,!=0.3.9,<0.4.0,>=0.2.43->langgraph) (9.0.0)\n",
            "Requirement already satisfied: typing-extensions>=4.7 in /usr/local/lib/python3.10/dist-packages (from langchain-core!=0.3.0,!=0.3.1,!=0.3.10,!=0.3.11,!=0.3.12,!=0.3.13,!=0.3.14,!=0.3.15,!=0.3.16,!=0.3.17,!=0.3.18,!=0.3.19,!=0.3.2,!=0.3.20,!=0.3.21,!=0.3.22,!=0.3.3,!=0.3.4,!=0.3.5,!=0.3.6,!=0.3.7,!=0.3.8,!=0.3.9,<0.4.0,>=0.2.43->langgraph) (4.12.2)\n",
            "Requirement already satisfied: msgpack<2.0.0,>=1.1.0 in /usr/local/lib/python3.10/dist-packages (from langgraph-checkpoint<3.0.0,>=2.0.4->langgraph) (1.1.0)\n",
            "Requirement already satisfied: httpx>=0.25.2 in /usr/local/lib/python3.10/dist-packages (from langgraph-sdk<0.2.0,>=0.1.42->langgraph) (0.28.1)\n",
            "Requirement already satisfied: orjson>=3.10.1 in /usr/local/lib/python3.10/dist-packages (from langgraph-sdk<0.2.0,>=0.1.42->langgraph) (3.10.12)\n",
            "Requirement already satisfied: anyio in /usr/local/lib/python3.10/dist-packages (from httpx>=0.25.2->langgraph-sdk<0.2.0,>=0.1.42->langgraph) (3.7.1)\n",
            "Requirement already satisfied: certifi in /usr/local/lib/python3.10/dist-packages (from httpx>=0.25.2->langgraph-sdk<0.2.0,>=0.1.42->langgraph) (2024.8.30)\n",
            "Requirement already satisfied: httpcore==1.* in /usr/local/lib/python3.10/dist-packages (from httpx>=0.25.2->langgraph-sdk<0.2.0,>=0.1.42->langgraph) (1.0.7)\n",
            "Requirement already satisfied: idna in /usr/local/lib/python3.10/dist-packages (from httpx>=0.25.2->langgraph-sdk<0.2.0,>=0.1.42->langgraph) (3.10)\n",
            "Requirement already satisfied: h11<0.15,>=0.13 in /usr/local/lib/python3.10/dist-packages (from httpcore==1.*->httpx>=0.25.2->langgraph-sdk<0.2.0,>=0.1.42->langgraph) (0.14.0)\n",
            "Requirement already satisfied: jsonpointer>=1.9 in /usr/local/lib/python3.10/dist-packages (from jsonpatch<2.0,>=1.33->langchain-core!=0.3.0,!=0.3.1,!=0.3.10,!=0.3.11,!=0.3.12,!=0.3.13,!=0.3.14,!=0.3.15,!=0.3.16,!=0.3.17,!=0.3.18,!=0.3.19,!=0.3.2,!=0.3.20,!=0.3.21,!=0.3.22,!=0.3.3,!=0.3.4,!=0.3.5,!=0.3.6,!=0.3.7,!=0.3.8,!=0.3.9,<0.4.0,>=0.2.43->langgraph) (3.0.0)\n",
            "Requirement already satisfied: requests<3,>=2 in /usr/local/lib/python3.10/dist-packages (from langsmith<0.3,>=0.1.125->langchain-core!=0.3.0,!=0.3.1,!=0.3.10,!=0.3.11,!=0.3.12,!=0.3.13,!=0.3.14,!=0.3.15,!=0.3.16,!=0.3.17,!=0.3.18,!=0.3.19,!=0.3.2,!=0.3.20,!=0.3.21,!=0.3.22,!=0.3.3,!=0.3.4,!=0.3.5,!=0.3.6,!=0.3.7,!=0.3.8,!=0.3.9,<0.4.0,>=0.2.43->langgraph) (2.32.3)\n",
            "Requirement already satisfied: requests-toolbelt<2.0.0,>=1.0.0 in /usr/local/lib/python3.10/dist-packages (from langsmith<0.3,>=0.1.125->langchain-core!=0.3.0,!=0.3.1,!=0.3.10,!=0.3.11,!=0.3.12,!=0.3.13,!=0.3.14,!=0.3.15,!=0.3.16,!=0.3.17,!=0.3.18,!=0.3.19,!=0.3.2,!=0.3.20,!=0.3.21,!=0.3.22,!=0.3.3,!=0.3.4,!=0.3.5,!=0.3.6,!=0.3.7,!=0.3.8,!=0.3.9,<0.4.0,>=0.2.43->langgraph) (1.0.0)\n",
            "Requirement already satisfied: annotated-types>=0.6.0 in /usr/local/lib/python3.10/dist-packages (from pydantic<3.0.0,>=2.5.2->langchain-core!=0.3.0,!=0.3.1,!=0.3.10,!=0.3.11,!=0.3.12,!=0.3.13,!=0.3.14,!=0.3.15,!=0.3.16,!=0.3.17,!=0.3.18,!=0.3.19,!=0.3.2,!=0.3.20,!=0.3.21,!=0.3.22,!=0.3.3,!=0.3.4,!=0.3.5,!=0.3.6,!=0.3.7,!=0.3.8,!=0.3.9,<0.4.0,>=0.2.43->langgraph) (0.7.0)\n",
            "Requirement already satisfied: pydantic-core==2.27.1 in /usr/local/lib/python3.10/dist-packages (from pydantic<3.0.0,>=2.5.2->langchain-core!=0.3.0,!=0.3.1,!=0.3.10,!=0.3.11,!=0.3.12,!=0.3.13,!=0.3.14,!=0.3.15,!=0.3.16,!=0.3.17,!=0.3.18,!=0.3.19,!=0.3.2,!=0.3.20,!=0.3.21,!=0.3.22,!=0.3.3,!=0.3.4,!=0.3.5,!=0.3.6,!=0.3.7,!=0.3.8,!=0.3.9,<0.4.0,>=0.2.43->langgraph) (2.27.1)\n",
            "Requirement already satisfied: charset-normalizer<4,>=2 in /usr/local/lib/python3.10/dist-packages (from requests<3,>=2->langsmith<0.3,>=0.1.125->langchain-core!=0.3.0,!=0.3.1,!=0.3.10,!=0.3.11,!=0.3.12,!=0.3.13,!=0.3.14,!=0.3.15,!=0.3.16,!=0.3.17,!=0.3.18,!=0.3.19,!=0.3.2,!=0.3.20,!=0.3.21,!=0.3.22,!=0.3.3,!=0.3.4,!=0.3.5,!=0.3.6,!=0.3.7,!=0.3.8,!=0.3.9,<0.4.0,>=0.2.43->langgraph) (3.4.0)\n",
            "Requirement already satisfied: urllib3<3,>=1.21.1 in /usr/local/lib/python3.10/dist-packages (from requests<3,>=2->langsmith<0.3,>=0.1.125->langchain-core!=0.3.0,!=0.3.1,!=0.3.10,!=0.3.11,!=0.3.12,!=0.3.13,!=0.3.14,!=0.3.15,!=0.3.16,!=0.3.17,!=0.3.18,!=0.3.19,!=0.3.2,!=0.3.20,!=0.3.21,!=0.3.22,!=0.3.3,!=0.3.4,!=0.3.5,!=0.3.6,!=0.3.7,!=0.3.8,!=0.3.9,<0.4.0,>=0.2.43->langgraph) (2.2.3)\n",
            "Requirement already satisfied: sniffio>=1.1 in /usr/local/lib/python3.10/dist-packages (from anyio->httpx>=0.25.2->langgraph-sdk<0.2.0,>=0.1.42->langgraph) (1.3.1)\n",
            "Requirement already satisfied: exceptiongroup in /usr/local/lib/python3.10/dist-packages (from anyio->httpx>=0.25.2->langgraph-sdk<0.2.0,>=0.1.42->langgraph) (1.2.2)\n"
          ]
        }
      ]
    },
    {
      "cell_type": "code",
      "source": [
        "from IPython.display import display, Image\n",
        "from langgraph.graph import StateGraph, START, END\n",
        "from langgraph.graph.state import CompiledStateGraph\n",
        "\n",
        "\n",
        "# HERE WE WILL DEFINE GRAPH\n",
        "builder = StateGraph = StateGraph(state_schema=FirstLLMAgentCall)\n",
        "\n",
        "\n",
        "# HERE WE WILL DEFINE NODES\n",
        "\n",
        "builder.add_node(\"Node-1\", ai_node)\n",
        "\n",
        "\n",
        "# HERE WE WILL DEFINE EDGES\n",
        "\n",
        "builder.add_edge(START, \"Node-1\")\n",
        "builder.add_edge(\"Node-1\", END)\n",
        "\n",
        "# HERE GRAPH WILL COMPILE\n",
        "\n",
        "graph : CompiledStateGraph = builder.compile()\n",
        "\n"
      ],
      "metadata": {
        "collapsed": true,
        "id": "s0bLZOKM_SBp"
      },
      "execution_count": 20,
      "outputs": []
    },
    {
      "cell_type": "code",
      "source": [
        "# DISPLAY IMAGE OF GRAPH\n",
        "display(Image(graph.get_graph().draw_mermaid_png()))"
      ],
      "metadata": {
        "colab": {
          "base_uri": "https://localhost:8080/",
          "height": 251
        },
        "id": "oTRCvbzXDaWp",
        "outputId": "d5eeafed-b1d7-4472-ecfc-9ed20e06de2e"
      },
      "execution_count": 21,
      "outputs": [
        {
          "output_type": "display_data",
          "data": {
            "image/png": "[encoded data removed]",
            "text/plain": [
              "<IPython.core.display.Image object>"
            ]
          },
          "metadata": {}
        }
      ]
    },
    {
      "cell_type": "code",
      "source": [],
      "metadata": {
        "id": "2drLDcuZEOIr"
      },
      "execution_count": null,
      "outputs": []
    }
  ]
}