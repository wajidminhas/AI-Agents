{
  "nbformat": 4,
  "nbformat_minor": 0,
  "metadata": {
    "colab": {
      "provenance": [],
      "authorship_tag": "ABX9TyNP5EaThQ14e0GxI+ZO73O7",
      "include_colab_link": true
    },
    "kernelspec": {
      "name": "python3",
      "display_name": "Python 3"
    },
    "language_info": {
      "name": "python"
    }
  },
  "cells": [
    {
      "cell_type": "markdown",
      "metadata": {
        "id": "view-in-github",
        "colab_type": "text"
      },
      "source": [
        "<a href=\"https://colab.research.google.com/github/wajidminhas/AI-Agents/blob/main/router_chain.ipynb\" target=\"_parent\"><img src=\"https://colab.research.google.com/assets/colab-badge.svg\" alt=\"Open In Colab\"/></a>"
      ]
    },
    {
      "cell_type": "markdown",
      "source": [
        "We built a graph that uses messages as state and a chat model with bound tools.\n",
        "\n",
        "  We saw that the graph can:\n",
        "\n",
        "  Return a tool call\n",
        "  Return a natural language response\n",
        "\n",
        "#Goals\n",
        "\n",
        "  We can think of this as a router, where the chat model routes between a direct response or a tool call based upon the user input.\n",
        "\n",
        "  This is an simple example of an agent, where the LLM is directing the control flow either by calling a tool or just responding directly.\n",
        "\n"
      ],
      "metadata": {
        "id": "Apyd_OHaEQG6"
      }
    },
    {
      "cell_type": "code",
      "source": [
        "%%capture --no-stderr\n",
        "%pip install --quiet -U langchain_google_genai langchain_core langgraph"
      ],
      "metadata": {
        "id": "DvirAI48EU0S"
      },
      "execution_count": 1,
      "outputs": []
    },
    {
      "cell_type": "markdown",
      "source": [
        "SECRET ADDED AND ACCESS API KEY"
      ],
      "metadata": {
        "id": "0PSG4xmNFnBS"
      }
    },
    {
      "cell_type": "code",
      "source": [
        "from google.colab import userdata\n",
        "\n",
        "GEMINI_API_KEY = userdata.get('GEMINI_API_KEY')"
      ],
      "metadata": {
        "id": "1TlwcF8YFZ1l"
      },
      "execution_count": 2,
      "outputs": []
    },
    {
      "cell_type": "code",
      "source": [
        "from langchain_google_genai import ChatGoogleGenerativeAI\n",
        "\n",
        "#here we will create a tool/function\n",
        "\n",
        "def multiply(a: int, b: int) -> int:\n",
        "\n",
        "\n",
        "  \"\"\"\n",
        "  Multiply two numbers\n",
        "\n",
        "  \"\"\"\n",
        "  return a * b\n",
        "\n",
        "llm = ChatGoogleGenerativeAI(model = \"gemini-1.5-flash\", api_key=GEMINI_API_KEY)\n",
        "llm_with_tools = llm.bind_tools([multiply])"
      ],
      "metadata": {
        "id": "3gVq_PmcFvw3"
      },
      "execution_count": 7,
      "outputs": []
    },
    {
      "cell_type": "code",
      "source": [
        "from IPython.display import Image, display\n",
        "from langgraph.graph import StateGraph, START, END\n",
        "from langgraph.graph import MessagesState\n",
        "from langgraph.prebuilt import ToolNode, tools_condition\n",
        "from langgraph.graph.state import CompiledStateGraph\n",
        "\n",
        "\n",
        "#here we create node\n",
        "def tool_call_multiply(state: MessagesState):\n",
        "  return {\"messages\" : [llm_with_tools.invoke(state[\"messages\"])]}\n",
        "\n",
        "# BUILD GRAPH\n",
        "\n",
        "builder:StateGraph = StateGraph(MessagesState)\n",
        "builder.add_node(\"tool_call_multiply\" , tool_call_multiply)\n",
        "builder.add_node(\"tools\", ToolNode([multiply]))\n",
        "builder.add_edge(START, \"tool_call_multiply\")\n",
        "\n",
        "builder.add_conditional_edges(\"tool_call_multiply\", tools_condition)\n",
        "\n",
        "builder.add_edge(\"tools\", END)\n",
        "\n",
        "graph : CompiledStateGraph = builder.compile()\n",
        "\n",
        "\n",
        "#view / display\n",
        "display(Image(graph.get_graph().draw_mermaid_png()))\n",
        "\n",
        "\n",
        "\n",
        "\n"
      ],
      "metadata": {
        "colab": {
          "base_uri": "https://localhost:8080/",
          "height": 350
        },
        "id": "eg4g33K-Gdht",
        "outputId": "f3ff1fbb-4660-4207-ca39-c744588db1a7"
      },
      "execution_count": 11,
      "outputs": [
        {
          "output_type": "display_data",
          "data": {
            "image/png": "[encoded data removed]",
            "text/plain": [
              "<IPython.core.display.Image object>"
            ]
          },
          "metadata": {}
        }
      ]
    },
    {
      "cell_type": "code",
      "source": [
        "from langchain_core.messages import HumanMessage, SystemMessage\n",
        "messages = [SystemMessage(content=\"\") , HumanMessage(content=\"What is multiply of 2 and 3\")]\n",
        "messages = graph.invoke({\"messages\": messages})\n",
        "for m in messages['messages']:\n",
        "    m.pretty_print()"
      ],
      "metadata": {
        "colab": {
          "base_uri": "https://localhost:8080/"
        },
        "id": "C8nDFnbZU05C",
        "outputId": "a3cdbac0-f950-4140-d82f-ddadf37f94b4"
      },
      "execution_count": 12,
      "outputs": [
        {
          "output_type": "stream",
          "name": "stdout",
          "text": [
            "================================\u001b[1m System Message \u001b[0m================================\n",
            "\n",
            "\n",
            "================================\u001b[1m Human Message \u001b[0m=================================\n",
            "\n",
            "What is multiply of 2 and 3\n",
            "==================================\u001b[1m Ai Message \u001b[0m==================================\n",
            "Tool Calls:\n",
            "  multiply (436e7f21-8519-4727-b54a-0f9c375292f6)\n",
            " Call ID: 436e7f21-8519-4727-b54a-0f9c375292f6\n",
            "  Args:\n",
            "    a: 2.0\n",
            "    b: 3.0\n",
            "=================================\u001b[1m Tool Message \u001b[0m=================================\n",
            "Name: multiply\n",
            "\n",
            "6\n"
          ]
        }
      ]
    }
  ]
}