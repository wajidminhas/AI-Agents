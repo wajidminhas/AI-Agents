{
  "nbformat": 4,
  "nbformat_minor": 0,
  "metadata": {
    "colab": {
      "provenance": [],
      "authorship_tag": "ABX9TyNa3CsBSsEp3ZycW0sxi0Jn",
      "include_colab_link": true
    },
    "kernelspec": {
      "name": "python3",
      "display_name": "Python 3"
    },
    "language_info": {
      "name": "python"
    }
  },
  "cells": [
    {
      "cell_type": "markdown",
      "metadata": {
        "id": "view-in-github",
        "colab_type": "text"
      },
      "source": [
        "<a href=\"https://colab.research.google.com/github/wajidminhas/AI-Agents/blob/main/multiTool.ipynb\" target=\"_parent\"><img src=\"https://colab.research.google.com/assets/colab-badge.svg\" alt=\"Open In Colab\"/></a>"
      ]
    },
    {
      "cell_type": "code",
      "execution_count": null,
      "metadata": {
        "id": "k-wI_x9kx54R"
      },
      "outputs": [],
      "source": [
        "%%capture --no-stderr\n",
        "%pip install --quiet -U langchain_google_genai langchain_core langgraph"
      ]
    },
    {
      "cell_type": "code",
      "source": [
        "from google.colab import userdata\n",
        "userdata.get(\"GEMINI_API_KEY\")\n",
        "gemini_ap_key = userdata.get(\"GEMINI_API_KEY\")"
      ],
      "metadata": {
        "id": "i6VCeKe5yLc1"
      },
      "execution_count": null,
      "outputs": []
    },
    {
      "cell_type": "code",
      "source": [
        "# from langchain_google_genai import ChatGoogleGenerativeAI\n",
        "\n",
        "\n",
        "# create function for location\n",
        "# def locate(location_name)->str:\n",
        "#   \"\"\"\n",
        "#   keyword arugments:\n",
        "#   location_name: str\n",
        "\n",
        "#   return: str\n",
        "#   \"\"\"\n",
        "#   return f\"I am in {location_name}\"\n",
        "\n",
        "# def addition(num1, num2):\n",
        "#   \"\"\"\n",
        "#   keyword arugments:\n",
        "#   num1: int\n",
        "#   num2: int\n",
        "\n",
        "#   return: int\n",
        "#   \"\"\"\n",
        "#   return num1 + num2\n",
        "\n",
        "#   tools = [locate, addition]\n",
        "#   llm : ChatGoogleGenerativeAI = ChatGoogleGenerativeAI(model=\"gemini-1.5-flash\", api_key=gemini_ap_key)\n",
        "\n",
        "#   llm_tool = llm.bind_tools(tools)\n"
      ],
      "metadata": {
        "id": "wiAwyE0eyoji"
      },
      "execution_count": null,
      "outputs": []
    },
    {
      "cell_type": "code",
      "source": [
        "from langchain_google_genai import ChatGoogleGenerativeAI\n",
        "from langchain.tools import StructuredTool\n",
        "def multiply(a: int, b: int) -> int:\n",
        "    \"\"\"Multiply a and b.\n",
        "\n",
        "    Args:\n",
        "        a: first int\n",
        "        b: second int\n",
        "    \"\"\"\n",
        "    return a * b\n",
        "\n",
        "# This will be a tool\n",
        "def add(a: int, b: int) -> int:\n",
        "    \"\"\"Adds a and b.\n",
        "\n",
        "    Args:\n",
        "        a: first int\n",
        "        b: second int\n",
        "    \"\"\"\n",
        "    return a + b\n",
        "\n",
        "def divide(a: int, b: int) -> float:\n",
        "    \"\"\"Divide a and b.\n",
        "\n",
        "    Args:\n",
        "        a: first int\n",
        "        b: second int\n",
        "    \"\"\"\n",
        "    return a / b\n",
        "\n",
        "# create function for location\n",
        "def locate(location_name : str)->str:\n",
        "  \"\"\"\n",
        "  keyword arugments:\n",
        "  location_name: str\n",
        "\n",
        "  return: str\n",
        "  \"\"\"\n",
        "  return  {\"Location\" : location_name}\n",
        "\n",
        "tools = [StructuredTool.from_function(func=add),\n",
        "    StructuredTool.from_function(func=multiply),\n",
        "    StructuredTool.from_function(func=divide),\n",
        "    StructuredTool.from_function(func=locate)]\n",
        "llm = ChatGoogleGenerativeAI(model=\"gemini-1.5-flash\", api_key = gemini_ap_key)\n",
        "llm_with_tools = llm.bind_tools(tools)"
      ],
      "metadata": {
        "id": "qM7nvKu5Ar1d"
      },
      "execution_count": null,
      "outputs": []
    },
    {
      "cell_type": "code",
      "source": [
        "from langchain_core.messages import SystemMessage, HumanMessage\n",
        "from langgraph.graph import MessagesState\n",
        "\n",
        "# create a Node\n",
        "system_message = SystemMessage(content=\"You are a helpful assistant for arithmatic operation and regarding Geo Location\")\n",
        "\n",
        "\n",
        "\n",
        "def assistant(state : MessagesState)->MessagesState:\n",
        "  return {\"messages\" : [llm_with_tools.invoke([system_message] + state[\"messages\"])]}\n",
        "# Graph\n",
        "builder: StateGraph = StateGraph(MessagesState)\n"
      ],
      "metadata": {
        "id": "i8XKDlu67bU9"
      },
      "execution_count": null,
      "outputs": []
    },
    {
      "cell_type": "code",
      "source": [
        "from langgraph.graph import START, StateGraph\n",
        "from langgraph.prebuilt import tools_condition\n",
        "from langgraph.prebuilt import ToolNode\n",
        "from IPython.display import Image, display\n",
        "from langgraph.graph.state import CompiledStateGraph\n",
        "\n",
        "\n",
        "\n",
        "# Define nodes: these do the work\n",
        "builder.add_node(\"assistant\", assistant)\n",
        "builder.add_node(\"tools\", ToolNode(tools))\n",
        "\n",
        "# Define edges: these determine how the control flow moves\n",
        "builder.add_edge(START, \"assistant\")\n",
        "builder.add_conditional_edges(\n",
        "    \"assistant\",\n",
        "    # If the latest message (result) from assistant is a tool call -> tools_condition routes to tools\n",
        "    # If the latest message (result) from assistant is a not a tool call -> tools_condition routes to END\n",
        "    tools_condition,\n",
        ")\n",
        "builder.add_edge(\"tools\", \"assistant\")\n",
        "react_graph: CompiledStateGraph = builder.compile()\n",
        "\n",
        "display(Image(react_graph.get_graph(xray=True).draw_mermaid_png()))\n",
        "\n",
        "\n"
      ],
      "metadata": {
        "colab": {
          "base_uri": "https://localhost:8080/",
          "height": 266
        },
        "id": "hVOuRndx_Gud",
        "outputId": "cf0bd7de-4fe8-4b35-8c2f-64558a52282e"
      },
      "execution_count": null,
      "outputs": [
        {
          "output_type": "display_data",
          "data": {
            "image/png": "[encoded data removed]",
            "text/plain": [
              "<IPython.core.display.Image object>"
            ]
          },
          "metadata": {}
        }
      ]
    },
    {
      "cell_type": "code",
      "source": [
        "messages = [HumanMessage(content=\"Add 3 and 4. Multiply the output by 2. Divide the output by 5\")]\n",
        "messages = react_graph.invoke({\"messages\": messages})\n",
        "\n",
        "for m in messages['messages']:\n",
        "    m.pretty_print()"
      ],
      "metadata": {
        "colab": {
          "base_uri": "https://localhost:8080/"
        },
        "id": "s-EjeDI1BXkI",
        "outputId": "af24d394-0c0d-4904-b701-47dad626f729"
      },
      "execution_count": null,
      "outputs": [
        {
          "output_type": "stream",
          "name": "stdout",
          "text": [
            "================================\u001b[1m Human Message \u001b[0m=================================\n",
            "\n",
            "Add 3 and 4. Multiply the output by 2. Divide the output by 5\n",
            "==================================\u001b[1m Ai Message \u001b[0m==================================\n",
            "Tool Calls:\n",
            "  add (04deb1f0-915c-4a51-8b83-5f5554418e29)\n",
            " Call ID: 04deb1f0-915c-4a51-8b83-5f5554418e29\n",
            "  Args:\n",
            "    a: 3.0\n",
            "    b: 4.0\n",
            "  multiply (7299bd28-8676-4b83-8c06-d8c21efcf288)\n",
            " Call ID: 7299bd28-8676-4b83-8c06-d8c21efcf288\n",
            "  Args:\n",
            "    a: 7.0\n",
            "    b: 2.0\n",
            "  divide (ab2c74ce-86a9-4126-8ad8-92941afff538)\n",
            " Call ID: ab2c74ce-86a9-4126-8ad8-92941afff538\n",
            "  Args:\n",
            "    a: 14.0\n",
            "    b: 5.0\n",
            "=================================\u001b[1m Tool Message \u001b[0m=================================\n",
            "Name: add\n",
            "\n",
            "7\n",
            "=================================\u001b[1m Tool Message \u001b[0m=================================\n",
            "Name: multiply\n",
            "\n",
            "14\n",
            "=================================\u001b[1m Tool Message \u001b[0m=================================\n",
            "Name: divide\n",
            "\n",
            "2.8\n",
            "==================================\u001b[1m Ai Message \u001b[0m==================================\n",
            "\n",
            "The sum of 3 and 4 is 7. Multiplying 7 by 2 equals 14. Dividing 14 by 5 results in 2.8.\n"
          ]
        }
      ]
    },
    {
      "cell_type": "code",
      "source": [
        "messages = [HumanMessage(content=\"Add 3 and 4. Multiply the output by 2. Divide the output by 5, and where is islambad located?\")]\n",
        "messages = react_graph.invoke({\"messages\": messages})\n",
        "\n",
        "for m in messages['messages']:\n",
        "    m.pretty_print()"
      ],
      "metadata": {
        "colab": {
          "base_uri": "https://localhost:8080/"
        },
        "id": "L_dLsOlDCZpW",
        "outputId": "5e07846b-20a8-40c5-ffcb-1dff74062ef2"
      },
      "execution_count": null,
      "outputs": [
        {
          "output_type": "stream",
          "name": "stdout",
          "text": [
            "================================\u001b[1m Human Message \u001b[0m=================================\n",
            "\n",
            "Add 3 and 4. Multiply the output by 2. Divide the output by 5, and where is islambad located?\n",
            "==================================\u001b[1m Ai Message \u001b[0m==================================\n",
            "Tool Calls:\n",
            "  add (09db899c-582c-486f-899d-40ef19a38d1c)\n",
            " Call ID: 09db899c-582c-486f-899d-40ef19a38d1c\n",
            "  Args:\n",
            "    a: 3.0\n",
            "    b: 4.0\n",
            "=================================\u001b[1m Tool Message \u001b[0m=================================\n",
            "Name: add\n",
            "\n",
            "7\n",
            "==================================\u001b[1m Ai Message \u001b[0m==================================\n",
            "Tool Calls:\n",
            "  multiply (ca2b8000-14b6-4d20-9909-180704563d1e)\n",
            " Call ID: ca2b8000-14b6-4d20-9909-180704563d1e\n",
            "  Args:\n",
            "    a: 7.0\n",
            "    b: 2.0\n",
            "=================================\u001b[1m Tool Message \u001b[0m=================================\n",
            "Name: multiply\n",
            "\n",
            "14\n",
            "==================================\u001b[1m Ai Message \u001b[0m==================================\n",
            "Tool Calls:\n",
            "  divide (b2a07233-0f1e-4423-a692-5d320053b720)\n",
            " Call ID: b2a07233-0f1e-4423-a692-5d320053b720\n",
            "  Args:\n",
            "    a: 14.0\n",
            "    b: 5.0\n",
            "=================================\u001b[1m Tool Message \u001b[0m=================================\n",
            "Name: divide\n",
            "\n",
            "2.8\n",
            "==================================\u001b[1m Ai Message \u001b[0m==================================\n",
            "Tool Calls:\n",
            "  locate (88a32038-30fc-4d8d-a4f8-89f3a19e96f6)\n",
            " Call ID: 88a32038-30fc-4d8d-a4f8-89f3a19e96f6\n",
            "  Args:\n",
            "    location_name: Islamabad\n",
            "=================================\u001b[1m Tool Message \u001b[0m=================================\n",
            "Name: locate\n",
            "\n",
            "{\"Location\": \"Islamabad\"}\n",
            "==================================\u001b[1m Ai Message \u001b[0m==================================\n",
            "\n",
            "The sum of 3 and 4 is 7. Multiplying this by 2 gives 14. Dividing 14 by 5 results in 2.8. Islamabad is located in Pakistan.\n"
          ]
        }
      ]
    }
  ]
}